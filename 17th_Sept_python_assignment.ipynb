{
 "cells": [
  {
   "cell_type": "markdown",
   "id": "1112787d-4d68-47fb-b8c5-de85e573210b",
   "metadata": {},
   "source": [
    "# For Loop"
   ]
  },
  {
   "cell_type": "markdown",
   "id": "f9a92d90-ae2d-407f-8865-57907ece669f",
   "metadata": {},
   "source": [
    "1. Write a python program to print numbers from 1 to 10 using a for loop."
   ]
  },
  {
   "cell_type": "code",
   "execution_count": 13,
   "id": "acf7ffe6-cddd-4b4d-b67a-8bc22323a883",
   "metadata": {},
   "outputs": [
    {
     "name": "stdout",
     "output_type": "stream",
     "text": [
      "1 2 3 4 5 6 7 8 9 10 "
     ]
    }
   ],
   "source": [
    "for i in range(1,11):\n",
    "    print(i,end=' ')"
   ]
  },
  {
   "cell_type": "markdown",
   "id": "e51f2030-46d0-41eb-a06a-67509fb25cd6",
   "metadata": {},
   "source": [
    "2. Explaine the difference between a for loop and a while loop in Python."
   ]
  },
  {
   "cell_type": "markdown",
   "id": "7938554f-ce5b-47bf-bfb7-16e65c747a22",
   "metadata": {},
   "source": [
    "# For Loop\n",
    "1. Definite Iteration: A 'for' loop is used for definite iteration, meaning you know beforhand how many times you want to execute the loop. Used to iterate through iterable objects such as list, tuple, string, set, dictionaries etc.\n",
    "2. Syntax: The basic syntax for a 'for' loop in python is as follow\n",
    "        for variable in sequence:\n",
    "            # code to be executed\n",
    "            \n",
    "            \n",
    "3. Iteration over Elements: In a 'for' loop , the loop variable is automatically assigned the value of each element in the sequence one by one, and the loop body is executed for each element.\n",
    "4. No Need for Counter: You don't need to maintain a counter or condition manually; the loop runs until the all items in the sequence have been processed.\n",
    "5. Common Use Cases: 'for' loops are commonly used for iterating through lists, tuples, strings, dictionaries, and other iterable objects. They are especially used when you want to perform a specific action for each item in the sequence.\n",
    "\n",
    "# While Loop\n",
    "1. Indefinite Iteration: A 'while' loop is used for indefinite iteration, where you may not know in advance how many times the loop needs to run. It continues to execute the loop until a specific condition becomes false.\n",
    "2. Syntax: The basic syntax of a 'while' loop in python is as follows:\n",
    "    \n",
    "    while condition:\n",
    "        # code to be executed\n",
    "        \n",
    "3. Condition-Based: In a 'while' loop the loop continues to execute as long as the specific condition remains True. It is your responsibility to update the condition within the loop to ensure it eventually becomes False to exit the loop.\n",
    "4. Manual control: You have more manual control over the loop condition, and you need to handle the increment or decrement of variables within the loop to control when the loop terminates.\n",
    "5. Common Use Cases: 'while' loops are used when you want to repeat an action until a certain condition is met. This can be useful for implementing interactive programs, games and situations where you don't know the number of iterations in advance."
   ]
  },
  {
   "cell_type": "code",
   "execution_count": 15,
   "id": "4af3b562-f850-42e5-aa77-cfbcf2e86986",
   "metadata": {},
   "outputs": [
    {
     "name": "stdout",
     "output_type": "stream",
     "text": [
      "apple dragon fruit orange banana "
     ]
    }
   ],
   "source": [
    "# example of for loop\n",
    "\n",
    "fruits=['apple','dragon fruit','orange','banana']\n",
    "for i in fruits:\n",
    "    print(i,end=' ')"
   ]
  },
  {
   "cell_type": "code",
   "execution_count": 18,
   "id": "5f136aba-76c0-49d4-b6d9-72f25ea45ed0",
   "metadata": {},
   "outputs": [
    {
     "name": "stdout",
     "output_type": "stream",
     "text": [
      "this is iteration 0\n",
      "this is iteration 1\n",
      "this is iteration 2\n",
      "this is iteration 3\n",
      "this is iteration 4\n",
      "this is iteration 5\n"
     ]
    }
   ],
   "source": [
    "# example of while loop\n",
    "count=0\n",
    "while count<6:\n",
    "    print(\"this is iteration\",count)\n",
    "    count+=1"
   ]
  },
  {
   "cell_type": "markdown",
   "id": "0a6dd055-b0c8-4520-aebe-b51efbe7bb51",
   "metadata": {},
   "source": [
    "3. Write a python program to calculate the sum of all numbers from 1 to 100 using a for loop."
   ]
  },
  {
   "cell_type": "code",
   "execution_count": 20,
   "id": "c538d198-f2b0-442e-a6ff-b46d7f38c77a",
   "metadata": {},
   "outputs": [
    {
     "name": "stdout",
     "output_type": "stream",
     "text": [
      "The sum of numbers from 1 to 100: 5050\n"
     ]
    }
   ],
   "source": [
    "sum_num=0\n",
    "for i in range(1,101):\n",
    "    sum_num+=i\n",
    "print('The sum of numbers from 1 to 100:',sum_num)"
   ]
  },
  {
   "cell_type": "markdown",
   "id": "3e3cb8b0-b19d-4dc2-a37c-4070523a51c0",
   "metadata": {},
   "source": [
    "4. How do you iterate through a list using a for loop in Python?"
   ]
  },
  {
   "cell_type": "code",
   "execution_count": 21,
   "id": "38a3416c-acb1-44e1-a12e-3fe7bda1e8d6",
   "metadata": {},
   "outputs": [
    {
     "name": "stdout",
     "output_type": "stream",
     "text": [
      "1 2 3 4 5 nag sen 77 "
     ]
    }
   ],
   "source": [
    "lst=[1,2,3,4,5,'nag','sen',77]\n",
    "\n",
    "for i in lst:\n",
    "    print(i,end=' ')"
   ]
  },
  {
   "cell_type": "markdown",
   "id": "aac5e713-dccb-428d-aca6-38653b8bf083",
   "metadata": {},
   "source": [
    "5. Write a Python program to find the product of all elements in a list using a for loop."
   ]
  },
  {
   "cell_type": "code",
   "execution_count": 22,
   "id": "d70dca0f-09da-424a-af05-c78c0dc80997",
   "metadata": {},
   "outputs": [
    {
     "name": "stdout",
     "output_type": "stream",
     "text": [
      "The product of all list element is: 3628800\n"
     ]
    }
   ],
   "source": [
    "l=[1,2,3,4,5,6,7,8,9,10]\n",
    "product=1\n",
    "for i in l:\n",
    "    product*=i\n",
    "\n",
    "print('The product of all list element is:',product)"
   ]
  },
  {
   "cell_type": "markdown",
   "id": "b30c3443-d597-42fb-99f4-5cc105c0511a",
   "metadata": {},
   "source": [
    "6. Write a Python program that prints all even numbers from 1 to 20 using a for loop."
   ]
  },
  {
   "cell_type": "code",
   "execution_count": 9,
   "id": "907f74be-bb12-4701-b09b-e2b61a570f2a",
   "metadata": {},
   "outputs": [
    {
     "name": "stdout",
     "output_type": "stream",
     "text": [
      "[2, 4, 6, 8, 10, 12, 14, 16, 18, 20]\n"
     ]
    }
   ],
   "source": [
    "def even_num(n):\n",
    "    lst=[]\n",
    "    for i in n :\n",
    "        if i%2==0:\n",
    "            lst.append(i)\n",
    "    return lst\n",
    "n=range(1,21)\n",
    "even=even_num(n)\n",
    "print(even)"
   ]
  },
  {
   "cell_type": "markdown",
   "id": "39370da3-986e-4ce2-99c1-4fbc2d0252fa",
   "metadata": {},
   "source": [
    "7. Write a Python program that calculates the factorial of a number using a for loop."
   ]
  },
  {
   "cell_type": "code",
   "execution_count": 16,
   "id": "0ba12db6-4c15-46a4-bda6-58774f269544",
   "metadata": {},
   "outputs": [
    {
     "name": "stdin",
     "output_type": "stream",
     "text": [
      "enter a non-negative number 10\n"
     ]
    },
    {
     "name": "stdout",
     "output_type": "stream",
     "text": [
      "The factorial of the 10 is 3628800\n"
     ]
    }
   ],
   "source": [
    "def fact_num(num):\n",
    "    if num<0:\n",
    "        return \"Factorial is not defined for negative number\"\n",
    "    elif num==0:\n",
    "        return 1\n",
    "    else:\n",
    "        result=1\n",
    "        for i in range(1,num+1):\n",
    "            result*=i\n",
    "        return result\n",
    "    \n",
    "# input from the user\n",
    "try:\n",
    "    num=int(input('enter a non-negative number'))\n",
    "    print(f\"The factorial of the {num} is {fact_num(num)}\")\n",
    "except ValueError:\n",
    "    print('Invalid input. please enter a positive number')"
   ]
  },
  {
   "cell_type": "markdown",
   "id": "6c6bca3e-8121-4363-af7b-0c5a24590754",
   "metadata": {},
   "source": [
    "8. How can you iterate through the characters of a string using a for loop in python?"
   ]
  },
  {
   "cell_type": "code",
   "execution_count": 7,
   "id": "ad6068d5-fa8f-4314-8a5b-a4d7a82b0046",
   "metadata": {},
   "outputs": [
    {
     "name": "stdout",
     "output_type": "stream",
     "text": [
      "f u l l   s t a c k     d a t a   s c i e n c e   p r o "
     ]
    }
   ],
   "source": [
    "string='full stack  data science pro'\n",
    "\n",
    "for i in string:\n",
    "    print(i,end=' ')"
   ]
  },
  {
   "cell_type": "markdown",
   "id": "6806d998-b722-4445-8cc7-d64938e29975",
   "metadata": {},
   "source": [
    "9. Write a python program to find the largest number in a list using a for loop."
   ]
  },
  {
   "cell_type": "code",
   "execution_count": 10,
   "id": "f0a7be5d-874c-45c8-87e6-bec1a67588d2",
   "metadata": {},
   "outputs": [
    {
     "name": "stdout",
     "output_type": "stream",
     "text": [
      "The largest number in list is: 88\n"
     ]
    }
   ],
   "source": [
    "def largest_num(lst):\n",
    "    largest=lst[0]\n",
    "    for i in lst:\n",
    "        i>lst[0]\n",
    "        largest=i\n",
    "    return largest\n",
    "    \n",
    "lst=[1,2,3,6,55,77,9,88]\n",
    "result=largest_num(lst)\n",
    "print('The largest number in list is:',result)"
   ]
  },
  {
   "cell_type": "markdown",
   "id": "eedc9db1-30eb-46ca-897e-413c1b127063",
   "metadata": {},
   "source": [
    "10. Create a Python program that prints the Fibonacci sequence up to a specified limit using a for loop."
   ]
  },
  {
   "cell_type": "code",
   "execution_count": 11,
   "id": "04075040-5385-49b9-a070-1596790da525",
   "metadata": {},
   "outputs": [
    {
     "name": "stdin",
     "output_type": "stream",
     "text": [
      "enter a limit to get fobonacci sequence 10\n"
     ]
    },
    {
     "name": "stdout",
     "output_type": "stream",
     "text": [
      "The fibonacci sequence up to 10 is :\n",
      "0 1 1 2 3 5 8 "
     ]
    }
   ],
   "source": [
    "def fibonacci(limit):\n",
    "    # Initialize first two fibonacci number\n",
    "    a,b=0,1\n",
    "    \n",
    "    if limit<=0:\n",
    "        print('Invalid input. Please enter a positive integer.')\n",
    "    else:\n",
    "        print(f\"The fibonacci sequence up to {limit} is :\")\n",
    "        while a<=limit:\n",
    "            print(a,end=' ')\n",
    "            a,b=b,a+b\n",
    "            \n",
    "limit=int(input('enter a limit to get fobonacci sequence'))\n",
    "fibonacci(limit)"
   ]
  },
  {
   "cell_type": "markdown",
   "id": "8c34a1e2-3b9f-42fa-af2f-fe7ebcb053e2",
   "metadata": {},
   "source": [
    "11. Write a python program to count the number of vowels in a given string using a for loop."
   ]
  },
  {
   "cell_type": "code",
   "execution_count": 15,
   "id": "895ef6ec-474b-4019-93ea-30ec0b993149",
   "metadata": {},
   "outputs": [
    {
     "name": "stdout",
     "output_type": "stream",
     "text": [
      "The number of vowels: 8\n"
     ]
    }
   ],
   "source": [
    "def count_vowel(string):\n",
    "    vowels='aeiouAEIOU'\n",
    "    num_vowels=0\n",
    "    for i in string:\n",
    "        if i in vowels:\n",
    "            num_vowels+=1\n",
    "    return num_vowels\n",
    "\n",
    "string='full stack data science pro'\n",
    "num_vowels=count_vowel(string)\n",
    "print('The number of vowels:',num_vowels)"
   ]
  },
  {
   "cell_type": "markdown",
   "id": "81521eb7-d3e0-4938-b95e-eb90c98c95cd",
   "metadata": {},
   "source": [
    "12. Create a python program that generates a multiplication table for a given number using a for loop."
   ]
  },
  {
   "cell_type": "code",
   "execution_count": 21,
   "id": "fe03cb08-974a-4611-859f-e14a0d7349b4",
   "metadata": {},
   "outputs": [
    {
     "name": "stdin",
     "output_type": "stream",
     "text": [
      "enter number to get table of it: 7\n"
     ]
    },
    {
     "name": "stdout",
     "output_type": "stream",
     "text": [
      "Multiplication table for 7 is:\n",
      "7 x 1 = 7\n",
      "7 x 2 = 14\n",
      "7 x 3 = 21\n",
      "7 x 4 = 28\n",
      "7 x 5 = 35\n",
      "7 x 6 = 42\n",
      "7 x 7 = 49\n",
      "7 x 8 = 56\n",
      "7 x 9 = 63\n",
      "7 x 10 = 70\n"
     ]
    }
   ],
   "source": [
    "def mult_table(n):\n",
    "    print(f\"Multiplication table for {n} is:\")\n",
    "    \n",
    "    for i in range(1,11):\n",
    "        result=n*i\n",
    "        print(f\"{n} x {i} = {result}\")\n",
    "        \n",
    "n=int(input('enter number to get table of it:'))\n",
    "\n",
    "mult_table(n)"
   ]
  },
  {
   "cell_type": "markdown",
   "id": "3b473309-68dc-4ccc-8a35-0ffab633d13d",
   "metadata": {},
   "source": [
    "13. Write a Python program to reverse a list using a for loop."
   ]
  },
  {
   "cell_type": "code",
   "execution_count": 38,
   "id": "94f63a68-447f-45cb-aa20-674de005ae18",
   "metadata": {},
   "outputs": [
    {
     "name": "stdout",
     "output_type": "stream",
     "text": [
      "Original list: [1, 2, 3, 4, 5, 6, 7, 8, 9]\n",
      "Reversed list: [9, 8, 7, 6, 5, 4, 3, 2, 1]\n"
     ]
    }
   ],
   "source": [
    "# Original list\n",
    "lst=[1,2,3,4,5,6,7,8,9]\n",
    "\n",
    "# Initialize an empty list to store the variable\n",
    "reverse_lst=[]\n",
    "\n",
    "for i in range(len(lst)-1,-1,-1):\n",
    "    reverse_lst.append(lst[i])\n",
    "print('Original list:',lst)\n",
    "print('Reversed list:',reverse_lst)"
   ]
  },
  {
   "cell_type": "markdown",
   "id": "91fb07bb-3e18-472b-bbbb-9c96b5a8f184",
   "metadata": {},
   "source": [
    "14. Write a Python program to find the common elements between two lists using a for loop."
   ]
  },
  {
   "cell_type": "code",
   "execution_count": 40,
   "id": "945bb1f5-0016-49e0-98af-9b84470d47b1",
   "metadata": {},
   "outputs": [
    {
     "name": "stdout",
     "output_type": "stream",
     "text": [
      "The common elements in list are: [2, 3, 7]\n"
     ]
    }
   ],
   "source": [
    "lst=[1,2,3,4,5,6,7,8,9,10]\n",
    "lst1=[44,3,2,11,66,7,88,99,90]\n",
    "common_elements=[]\n",
    "\n",
    "for i in lst:\n",
    "    for j in lst1:\n",
    "        if j==i:\n",
    "            common_elements.append(j)\n",
    "print(f\"The common elements in list are: {common_elements}\")"
   ]
  },
  {
   "cell_type": "markdown",
   "id": "1e53aacc-0f2b-4b7e-a1e5-f7cd1d49f40e",
   "metadata": {},
   "source": [
    "15. Explain how to use a for loop to iterate through the keys and values of a dictionary in Python."
   ]
  },
  {
   "cell_type": "markdown",
   "id": "63aec9fc-7b5d-4cfb-953c-185c521b1e70",
   "metadata": {},
   "source": [
    "In Python, you can use a 'for' loop to iterate through the keys and values of a dictionary using a couple of methods. The most common approach is to use the 'items()' method, which returns a list of key-value pairs as tuple. Here's how to use a 'for' loop to iterate through the keys and values of a dictionary."
   ]
  },
  {
   "cell_type": "code",
   "execution_count": 9,
   "id": "88f5929b-0fc7-4a41-b878-5b928812f687",
   "metadata": {},
   "outputs": [
    {
     "name": "stdout",
     "output_type": "stream",
     "text": [
      "Key: apple, Value: 4\n",
      "Key: cherry, Value: 5\n",
      "Key: banana, Value: 3\n",
      "Key: orange, Value: 9\n"
     ]
    }
   ],
   "source": [
    "dictionary={'apple':4,'cherry': 5,'banana':3, 'orange':9}\n",
    "\n",
    "for key, value in dictionary.items():\n",
    "    print(f\"Key: {key}, Value: {value}\")"
   ]
  },
  {
   "cell_type": "markdown",
   "id": "7cc2b25b-5d03-4aa9-80ab-5c6abf5f7f32",
   "metadata": {},
   "source": [
    "We can separately iterate keys and values by using the keys() and values() methods."
   ]
  },
  {
   "cell_type": "code",
   "execution_count": 10,
   "id": "5453209a-d083-47fc-ba6b-6744d8258dbc",
   "metadata": {},
   "outputs": [
    {
     "name": "stdout",
     "output_type": "stream",
     "text": [
      "Key:apple\n",
      "Key:banana\n",
      "Key:cherry\n",
      "Key:orange\n"
     ]
    }
   ],
   "source": [
    "dictionary={'apple':5,'banana':8,'cherry':9,'orange':1}\n",
    "\n",
    "for key in dictionary.keys():\n",
    "    print(f\"Key:{key}\")"
   ]
  },
  {
   "cell_type": "code",
   "execution_count": 11,
   "id": "c712d387-ab20-4ada-a4ea-d3a015e61d23",
   "metadata": {},
   "outputs": [
    {
     "name": "stdout",
     "output_type": "stream",
     "text": [
      "Value: 8\n",
      "Value: 3\n",
      "Value: 2\n",
      "Value: 8\n"
     ]
    }
   ],
   "source": [
    "dictionary={'apple':8,'banana':3,'cherry':2,'orange':8}\n",
    "\n",
    "for value in dictionary.values():\n",
    "    print(f\"Value: {value}\")"
   ]
  },
  {
   "cell_type": "markdown",
   "id": "3112910a-e0d5-4961-9303-6db66a4c0ecd",
   "metadata": {},
   "source": [
    "16. Write a python program to find the GCD (Greatest Common Divisor) of two numbers using a for loop."
   ]
  },
  {
   "cell_type": "code",
   "execution_count": 15,
   "id": "6dee99ad-69a0-4750-98ac-e104d977eca7",
   "metadata": {},
   "outputs": [
    {
     "name": "stdin",
     "output_type": "stream",
     "text": [
      "enter a first number: 90\n",
      "enter a second number: 80\n"
     ]
    },
    {
     "name": "stdout",
     "output_type": "stream",
     "text": [
      "The GCD of 90 and 80 is: 10\n"
     ]
    }
   ],
   "source": [
    "# Function to calculate GCD using the Euclidean algorithm\n",
    "\n",
    "def gcd(a,b):\n",
    "    while b:\n",
    "        a,b=b,a%b\n",
    "    return a\n",
    "\n",
    "# User input\n",
    "\n",
    "num1=int(input('enter a first number:'))\n",
    "num2=int(input('enter a second number:'))\n",
    "\n",
    "result=gcd(num1,num2)\n",
    "print(f\"The GCD of {num1} and {num2} is: {result}\")"
   ]
  },
  {
   "cell_type": "markdown",
   "id": "ea557537-b4fd-4514-9ef2-88a79361273a",
   "metadata": {},
   "source": [
    "17. Create a Python program that checks if a string is a palindrome using a for loop."
   ]
  },
  {
   "cell_type": "markdown",
   "id": "de5b282e-37e1-4007-9e94-34e0534f5efa",
   "metadata": {},
   "source": [
    "18. Write a python program to remove duplicates from a list using a for loop."
   ]
  },
  {
   "cell_type": "code",
   "execution_count": 38,
   "id": "aa32f04f-a1d7-4dbd-b4f5-99bbe49ae120",
   "metadata": {},
   "outputs": [
    {
     "name": "stdout",
     "output_type": "stream",
     "text": [
      "The original list: [1, 33, 2, 4, 5, 6, 7, 88, 7, 6, 99, 0, 9, 7, 99, 8, 944, 33, 22]\n",
      "The list with duplicate removed [1, 33, 2, 4, 5, 6, 7, 88, 99, 0, 9, 8, 944, 22]\n"
     ]
    }
   ],
   "source": [
    "def remove_duplicates(lst):\n",
    "    unique_lst=[]\n",
    "    for i in lst:\n",
    "        if i not in unique_lst:\n",
    "            unique_lst.append(i)\n",
    "    return unique_lst\n",
    "\n",
    "lst=[1,33,2,4,5,6,7,88,7,6,99,0,9,7,99,8,944,33,22]\n",
    "\n",
    "unique_lst=remove_duplicates(lst)\n",
    "print('The original list:',lst)\n",
    "print('The list with duplicate removed',unique_lst)"
   ]
  },
  {
   "cell_type": "markdown",
   "id": "625cd8cd-b6a9-4a8c-b059-6084a2c95176",
   "metadata": {},
   "source": [
    "19. Create a Python program that counts the number of words in a sentence using a for loop."
   ]
  },
  {
   "cell_type": "code",
   "execution_count": 4,
   "id": "3d798694-7205-4f46-accf-06da9b54f509",
   "metadata": {},
   "outputs": [
    {
     "name": "stdin",
     "output_type": "stream",
     "text": [
      "enter a string: full stack data science pro\n"
     ]
    },
    {
     "name": "stdout",
     "output_type": "stream",
     "text": [
      "The number of words in a given string are: 5\n"
     ]
    }
   ],
   "source": [
    "def count_words(string):\n",
    "    words=0\n",
    "    for i in string.split():\n",
    "        words+=1\n",
    "    return words\n",
    "\n",
    "string=input('enter a string:')\n",
    "\n",
    "words=count_words(string)\n",
    "print(\"The number of words in a given string are: {}\".format(words))"
   ]
  },
  {
   "cell_type": "markdown",
   "id": "4c492d0c-acbb-4784-8f52-0a312eb0ed1a",
   "metadata": {},
   "source": [
    "20. Write a Python program to find the sum of all odd numbers from 1 to 50 using a for loop."
   ]
  },
  {
   "cell_type": "code",
   "execution_count": 5,
   "id": "341d27c2-03c5-4f24-91cc-dca5de05f915",
   "metadata": {},
   "outputs": [
    {
     "name": "stdout",
     "output_type": "stream",
     "text": [
      "The sum of all odd numbers is: 625\n"
     ]
    }
   ],
   "source": [
    "def sum_odd_num(n):\n",
    "    odd_sum=0\n",
    "    for i in n:\n",
    "        if i%2!=0:\n",
    "            odd_sum+=i\n",
    "    return odd_sum\n",
    "\n",
    "\n",
    "n=range(1,51)\n",
    "result=sum_odd_num(n)\n",
    "\n",
    "print('The sum of all odd numbers is: {}'.format(result))"
   ]
  },
  {
   "cell_type": "markdown",
   "id": "ff9dc725-1458-4150-b47c-0c52ec10e3cb",
   "metadata": {},
   "source": [
    "21. Create a python program that checks if a given year is a leap year using a for loop."
   ]
  },
  {
   "cell_type": "code",
   "execution_count": 41,
   "id": "3d18f3a9-5f26-4851-a768-115e2332325b",
   "metadata": {},
   "outputs": [
    {
     "name": "stdin",
     "output_type": "stream",
     "text": [
      "enter a year: 8080\n"
     ]
    },
    {
     "name": "stdout",
     "output_type": "stream",
     "text": [
      "8080 is a leap year.\n"
     ]
    }
   ],
   "source": [
    "# Get the input year from the user\n",
    "\n",
    "year=int(input('enter a year:'))\n",
    "\n",
    "# initialize a variable to track if the year is a leap year\n",
    "\n",
    "is_leap_year=False\n",
    "\n",
    "# Check if the year is a leap year using a for loop.\n",
    "\n",
    "for i in range(1):\n",
    "    if (year%4==0 and year%100!=0) or (year%400==0):\n",
    "        is_leap_year=True\n",
    "    \n",
    "    \n",
    "# Output the result\n",
    "\n",
    "if is_leap_year:\n",
    "    print(f\"{year} is a leap year.\")\n",
    "else:\n",
    "    print(f\"{year} is not a leap year.\")"
   ]
  },
  {
   "cell_type": "markdown",
   "id": "8fab958c-329b-4bf6-a453-a11f00e56f9d",
   "metadata": {},
   "source": [
    "22. Create a Python program that calculates the square root of a number using a for loop."
   ]
  },
  {
   "cell_type": "code",
   "execution_count": 48,
   "id": "b7b57c11-b128-4a73-8df1-351e0568498c",
   "metadata": {},
   "outputs": [
    {
     "name": "stdin",
     "output_type": "stream",
     "text": [
      "enter a number: 99\n"
     ]
    },
    {
     "name": "stdout",
     "output_type": "stream",
     "text": [
      "The square root of 99.0 is approximately 9.949874\n"
     ]
    }
   ],
   "source": [
    "# Get the input number from the user\n",
    "num=float(input('enter a number:'))\n",
    "\n",
    "# Initialize guess for the square root\n",
    "\n",
    "guess=num/2\n",
    "\n",
    "# Set the number of iterations for the loop\n",
    "iterations=10  # You can increase this for more accuracy\n",
    "\n",
    "# Calculate the square root using a for loop.\n",
    "\n",
    "for _ in range(iterations):\n",
    "    guess=(guess+num/guess)/2\n",
    "    \n",
    "# Output the result\n",
    "print(f\"The square root of {num} is approximately {guess:.6f}\")"
   ]
  },
  {
   "cell_type": "markdown",
   "id": "5c01c547-502a-4a06-abbb-f51bc31cb29a",
   "metadata": {},
   "source": [
    "23. Write a Python program to find the LCM (Least Common Multiple) of two numbers using a for loop."
   ]
  },
  {
   "cell_type": "code",
   "execution_count": 57,
   "id": "febed85d-7e58-4df9-b8f4-f78accf6fa86",
   "metadata": {},
   "outputs": [
    {
     "name": "stdin",
     "output_type": "stream",
     "text": [
      "enter the first number: 76\n",
      "enter the second number: 45\n"
     ]
    },
    {
     "name": "stdout",
     "output_type": "stream",
     "text": [
      "The LCM of 76 and 45 is: 3420.\n"
     ]
    }
   ],
   "source": [
    "# Get the input numbers from the user\n",
    "\n",
    "num1=int(input('enter the first number:'))\n",
    "num2=int(input('enter the second number:'))\n",
    "\n",
    "# Find the maximum of two numbers\n",
    "max_num=max(num1,num2)\n",
    "\n",
    "# Initialize the variable to find the LCM\n",
    "\n",
    "lcm=max_num\n",
    "\n",
    "for i in range(max_num,num1*num2+1,max_num):\n",
    "    if i%num1==0 and i%num2==0:\n",
    "        lcm=i\n",
    "        break\n",
    "        \n",
    "# Print the result\n",
    "print(\"The LCM of {} and {} is: {}.\".format(num1,num2,lcm))"
   ]
  },
  {
   "cell_type": "markdown",
   "id": "017cb87a-eabd-42fe-a5f2-8c12ce677bd4",
   "metadata": {},
   "source": [
    "# If else:"
   ]
  },
  {
   "cell_type": "markdown",
   "id": "ae563f5c-124a-4b84-9a38-b70dc6d47ce8",
   "metadata": {},
   "source": [
    "1. Write a Python program to check if a number is positive, negative, or zero using an if-else statement."
   ]
  },
  {
   "cell_type": "code",
   "execution_count": 73,
   "id": "51a56d6f-5110-4c09-9701-4684bfe544fc",
   "metadata": {},
   "outputs": [
    {
     "name": "stdin",
     "output_type": "stream",
     "text": [
      "enter a number: 99\n"
     ]
    },
    {
     "name": "stdout",
     "output_type": "stream",
     "text": [
      "The number is positive.\n"
     ]
    }
   ],
   "source": [
    "def check_num(number):\n",
    "    try:\n",
    "        number=int(input('enter a number:'))\n",
    "        if number<0:\n",
    "            print('The number is negative.')\n",
    "        elif number==0:\n",
    "            print('The number is zero.')\n",
    "        else:\n",
    "            print('The number is positive.')\n",
    "    except ValueError :\n",
    "        print('Invalid input. Please enter an integer.')\n",
    "        \n",
    "check_num(number)"
   ]
  },
  {
   "cell_type": "markdown",
   "id": "cd666c68-76ef-4bcd-9e5a-d4ff54cfe10e",
   "metadata": {},
   "source": [
    "2. Create a Python program that checks if a given number is even or odd using an if-else statement."
   ]
  },
  {
   "cell_type": "code",
   "execution_count": 80,
   "id": "d7e68de0-e764-40d2-a8aa-6c65fd60232a",
   "metadata": {},
   "outputs": [
    {
     "name": "stdin",
     "output_type": "stream",
     "text": [
      "enter a number: 99\n"
     ]
    },
    {
     "name": "stdout",
     "output_type": "stream",
     "text": [
      "The number is odd.\n"
     ]
    }
   ],
   "source": [
    "def check_even_odd(num):\n",
    "    try:\n",
    "        num=int(input('enter a number:'))\n",
    "        if num%2==0:\n",
    "            print('The number is even.')\n",
    "        else:\n",
    "            print('The number is odd.')\n",
    "            \n",
    "    except ValueError:\n",
    "        print('Invalid input. Please enter an integer.')\n",
    "        \n",
    "check_even_odd(num)"
   ]
  },
  {
   "cell_type": "markdown",
   "id": "520a3fca-4c35-4429-8e2f-ee55d01a0531",
   "metadata": {},
   "source": [
    "3. How can you use nested if-else statements in Python, and provide an example?"
   ]
  },
  {
   "cell_type": "code",
   "execution_count": 105,
   "id": "0762389a-c49b-4a49-9dff-39832f1bde3a",
   "metadata": {},
   "outputs": [
    {
     "name": "stdin",
     "output_type": "stream",
     "text": [
      "enter a age: 17\n"
     ]
    },
    {
     "name": "stdout",
     "output_type": "stream",
     "text": [
      "You are a minor.\n",
      "You are a teenager.\n"
     ]
    }
   ],
   "source": [
    "# Get the user's age as input\n",
    "\n",
    "try:\n",
    "    age=int(input('enter a age:'))\n",
    "    if age<18:\n",
    "        print('You are a minor.')\n",
    "        if age<13:\n",
    "            print('You are a child.')\n",
    "        else:\n",
    "            print('You are a teenager.')\n",
    "    else:\n",
    "        print('You are an adult.')\n",
    "        \n",
    "except ValueError:\n",
    "    print('Invalid input. please enter a valid age.')"
   ]
  },
  {
   "cell_type": "markdown",
   "id": "b0a7ec6f-4621-4eed-8766-15b73d9509a2",
   "metadata": {},
   "source": [
    "4. Write a Python program to determine the largest of three numbers using if-else."
   ]
  },
  {
   "cell_type": "code",
   "execution_count": 3,
   "id": "4a7ed9c0-73dc-4ca3-8b1e-b5a6b817b46e",
   "metadata": {},
   "outputs": [
    {
     "name": "stdin",
     "output_type": "stream",
     "text": [
      "enter a first number: 88\n",
      "enter a second number: 44\n",
      "enter a third number: 67\n"
     ]
    },
    {
     "name": "stdout",
     "output_type": "stream",
     "text": [
      "The largest number is: 88\n"
     ]
    }
   ],
   "source": [
    "def largest_number(a,b,c):\n",
    "    if b<a>c:\n",
    "        print('The largest number is:',a)\n",
    "    elif a<b>c:\n",
    "        print('The largest number is:',b)\n",
    "    else :\n",
    "        print('The largest number is:',c)\n",
    "\n",
    "num1=int(input('enter a first number:'))\n",
    "num2=int(input('enter a second number:'))\n",
    "num3=int(input('enter a third number:'))\n",
    "largest_number(num1,num2,num3)"
   ]
  },
  {
   "cell_type": "markdown",
   "id": "2fc13f2b-bd30-4e77-ae1b-a36252bd42d5",
   "metadata": {},
   "source": [
    "5. Write a Python program that calculates the absolute value of a number using if-else."
   ]
  },
  {
   "cell_type": "code",
   "execution_count": 7,
   "id": "7e1af5b8-b843-443f-b5b6-827c77fad67f",
   "metadata": {},
   "outputs": [
    {
     "name": "stdin",
     "output_type": "stream",
     "text": [
      "enter a number: -5\n"
     ]
    },
    {
     "name": "stdout",
     "output_type": "stream",
     "text": [
      "The absolute value of -5 is: 5\n"
     ]
    }
   ],
   "source": [
    "def abs_value(num):\n",
    "    if num<0:\n",
    "        absolute=-(num)\n",
    "        print(\"The absolute value of {} is: {}\".format(num,absolute))\n",
    "    else:\n",
    "        absolute=num\n",
    "        print('The absolute value of {} is: {}'.format(num,absolute))\n",
    "        \n",
    "num=int(input('enter a number:'))\n",
    "abs_value(num)"
   ]
  },
  {
   "cell_type": "markdown",
   "id": "41c4e8a3-ec74-4ece-9ffb-0a92f33e8031",
   "metadata": {},
   "source": [
    "6. Create a Python program that checks if a given character is a vowel or consonant using if-else."
   ]
  },
  {
   "cell_type": "code",
   "execution_count": 1,
   "id": "47674165-b276-479a-a71e-78ac3b91cc69",
   "metadata": {},
   "outputs": [
    {
     "name": "stdin",
     "output_type": "stream",
     "text": [
      "enter a alphabet character: i\n"
     ]
    },
    {
     "name": "stdout",
     "output_type": "stream",
     "text": [
      "The character i is vowel.\n"
     ]
    }
   ],
   "source": [
    "def check_vow_conso(char):\n",
    "    vowels='aeiouAEIOU'\n",
    "    consonant='bcdfghjklmnpqrstvwxyzBCDFGHJKLMNPQRSTVWXYZ'\n",
    "        \n",
    "    if char in vowels:\n",
    "        print('The character {} is vowel.'.format(char))\n",
    "    elif char in consonant:\n",
    "        print('The character {} is consonant.'.format(char))\n",
    "    else:\n",
    "        print('Invalid input.')\n",
    "\n",
    "        \n",
    "char=input('enter a alphabet character:')\n",
    "check_vow_conso(char)"
   ]
  },
  {
   "cell_type": "markdown",
   "id": "c32afb0c-78a1-437c-83a7-ece213cf1cc6",
   "metadata": {},
   "source": [
    "7. Write a Python program to determine if a user is eligible to vote based on their age using if-else."
   ]
  },
  {
   "cell_type": "code",
   "execution_count": 12,
   "id": "66ca43da-3326-4717-8f7c-e18e2d226c07",
   "metadata": {},
   "outputs": [
    {
     "name": "stdin",
     "output_type": "stream",
     "text": [
      "enter your age: 19\n"
     ]
    },
    {
     "name": "stdout",
     "output_type": "stream",
     "text": [
      "Congratulation! you are eligible to vote.\n"
     ]
    }
   ],
   "source": [
    "try:\n",
    "    age=int(input('enter your age:'))\n",
    "\n",
    "    if age>=18:\n",
    "        print('Congratulation! you are eligible to vote.')\n",
    "    elif age==0:\n",
    "        print('Invalid age')\n",
    "    else:\n",
    "        print('You are not eligible to vote.')\n",
    "except ValueError:\n",
    "    print('Enter a valid age.')"
   ]
  },
  {
   "cell_type": "markdown",
   "id": "c00304c6-ee7e-4113-8d76-be8b59240995",
   "metadata": {},
   "source": [
    "8. Create a Python program that calculates the discount amount based on the purchase amount using if-else."
   ]
  },
  {
   "cell_type": "code",
   "execution_count": 2,
   "id": "85be45fe-ff7b-4b22-8aa3-b4f96c3e0254",
   "metadata": {},
   "outputs": [
    {
     "name": "stdin",
     "output_type": "stream",
     "text": [
      "enter the purchase amount: 1500\n"
     ]
    },
    {
     "name": "stdout",
     "output_type": "stream",
     "text": [
      "Purchase amount:Rs.1500.00\n",
      "Discount amount:Rs.150.00\n",
      "Final amount to be paid:Rs.1350.00\n"
     ]
    }
   ],
   "source": [
    "# Get the purchase amount from the user\n",
    "\n",
    "purchase_amount=float(input('enter the purchase amount:'))\n",
    "\n",
    "# Initialize discount variable\n",
    "\n",
    "discount=0.0\n",
    "\n",
    "# Determine the discount based on the purchase amount\n",
    "if purchase_amount>=1000:\n",
    "    discount=0.1*purchase_amount  # 10% discount for purchase of Rs. 1000 or morej\n",
    "elif purchase_amount>=500:\n",
    "    discount=0.05* purchase_amount  # 5% discount for purchase between Rs.500 and Rs.999\n",
    "\n",
    "# Calculate the final amount to be paid\n",
    "final_amount=purchase_amount-discount\n",
    "\n",
    "# Display the result\n",
    "print(f\"Purchase amount:Rs.{purchase_amount:.2f}\")\n",
    "print(f\"Discount amount:Rs.{discount:.2f}\")\n",
    "print(f\"Final amount to be paid:Rs.{final_amount:.2f}\")"
   ]
  },
  {
   "cell_type": "markdown",
   "id": "eb145059-f0db-4072-8343-e4248a85a792",
   "metadata": {},
   "source": [
    "9. Write a Python program to check if a number is within a specified range using if-else."
   ]
  },
  {
   "cell_type": "code",
   "execution_count": 3,
   "id": "a219e545-3b5e-4a4e-91a5-a30fcd1fcded",
   "metadata": {},
   "outputs": [
    {
     "name": "stdin",
     "output_type": "stream",
     "text": [
      "enter a number: 98\n"
     ]
    },
    {
     "name": "stdout",
     "output_type": "stream",
     "text": [
      "98.0 is not within the range of 10 to 90.\n"
     ]
    }
   ],
   "source": [
    "# define a range \n",
    "\n",
    "lower_limit=10\n",
    "upper_limit=90\n",
    "\n",
    "\n",
    "# User input\n",
    "\n",
    "number=float(input('enter a number:'))\n",
    "\n",
    "# Check if the number is within the range\n",
    "if number>=10 and number<=90:\n",
    "    print(f\"{number} is withing the range of {lower_limit} to {upper_limit}.\")\n",
    "else:\n",
    "    print(f\"{number} is not within the range of {lower_limit} to {upper_limit}.\")"
   ]
  },
  {
   "cell_type": "markdown",
   "id": "90b75967-1951-4585-96a4-e92871ddafaf",
   "metadata": {},
   "source": [
    "10. Create a Python program that determines the grade of a student based on their score using if-else."
   ]
  },
  {
   "cell_type": "code",
   "execution_count": 8,
   "id": "2f064b3b-d5f9-4e23-a41a-121c171ae904",
   "metadata": {},
   "outputs": [
    {
     "name": "stdin",
     "output_type": "stream",
     "text": [
      "enter a score: 88\n"
     ]
    },
    {
     "name": "stdout",
     "output_type": "stream",
     "text": [
      "The score of student is: 88.0\n",
      "Grade: B\n"
     ]
    }
   ],
   "source": [
    "def determine_grade(score):\n",
    "    if score>=90:\n",
    "        grade='A'\n",
    "    elif score>=80:\n",
    "        grade='B'\n",
    "    elif score>=70:\n",
    "        grade='C'\n",
    "    elif score>=60:\n",
    "        grade='D'\n",
    "    else:\n",
    "        grade='E'\n",
    "    return grade\n",
    "        \n",
    "score=float(input('enter a score:'))\n",
    "grade=determine_grade(score)\n",
    "print('The score of student is:',score)\n",
    "print('Grade:',grade)"
   ]
  },
  {
   "cell_type": "markdown",
   "id": "9fe3378d-df7d-42d1-8113-550cbff9e71e",
   "metadata": {},
   "source": [
    "11. Write a Python program to check if a string is empty or not using if-else."
   ]
  },
  {
   "cell_type": "code",
   "execution_count": 24,
   "id": "ce745492-e5db-42f4-afc0-76830cd6e945",
   "metadata": {},
   "outputs": [
    {
     "name": "stdin",
     "output_type": "stream",
     "text": [
      "enter a string: \n"
     ]
    },
    {
     "name": "stdout",
     "output_type": "stream",
     "text": [
      "The string is empty.\n"
     ]
    }
   ],
   "source": [
    "def check_empty_string(string):\n",
    "    if not string:\n",
    "        print('The string is empty.')\n",
    "    else:\n",
    "        print('The string is not empty.')\n",
    "        \n",
    "string=input('enter a string:')\n",
    "check_empty_string(string)"
   ]
  },
  {
   "cell_type": "markdown",
   "id": "f5dfddd6-cffa-4cf9-878c-618c26947f74",
   "metadata": {},
   "source": [
    "12. Create a Python program that identifies the type of a triangle (e.g., equilateral, isosceles, or scalene) based on input values using if-else."
   ]
  },
  {
   "cell_type": "code",
   "execution_count": 1,
   "id": "447b78f1-64f2-4500-a7bf-a9cb7f85f739",
   "metadata": {},
   "outputs": [
    {
     "name": "stdin",
     "output_type": "stream",
     "text": [
      "enter first side. 9\n",
      "enter second side. 8\n",
      "enter third side. 7\n"
     ]
    },
    {
     "name": "stdout",
     "output_type": "stream",
     "text": [
      "The triangle with sides 9.0, 8.0 and 7.0 is Scalene.\n"
     ]
    }
   ],
   "source": [
    "# take user input\n",
    "side1=float(input('enter first side.'))\n",
    "side2=float(input('enter second side.'))\n",
    "side3=float(input('enter third side.'))\n",
    "\n",
    "# Check if it's a valid triangle or not\n",
    "\n",
    "not_valid=side1+side2<=side3 or side1+side3<=side2 or side2+side3<=side1\n",
    "\n",
    "if not not_valid:\n",
    "    if side1==side2==side3:\n",
    "        print(f\"The triangle with sides {side1}, {side2} and {side3} is Equilateral.\")\n",
    "    elif side1==side2 or side1==side3 or side2==side3:\n",
    "        print(f\"The triangle with sides {side1}, {side2} and {side3} is Isosceles.\")\n",
    "    else:\n",
    "        print(f\"The triangle with sides {side1}, {side2} and {side3} is Scalene.\")\n",
    "        \n",
    "else:\n",
    "    print('The triangle is not valid.')"
   ]
  },
  {
   "cell_type": "markdown",
   "id": "13ce6357-208e-40bd-b13b-ad7430eb0be7",
   "metadata": {},
   "source": [
    "13. Write a Python program to determine the day of the week based on a user-provided number using if-else."
   ]
  },
  {
   "cell_type": "code",
   "execution_count": 3,
   "id": "576235fd-62c8-4813-b328-981541e7182b",
   "metadata": {},
   "outputs": [
    {
     "name": "stdin",
     "output_type": "stream",
     "text": [
      "enter a number (1-7) to determine the day of the week: 3\n"
     ]
    },
    {
     "name": "stdout",
     "output_type": "stream",
     "text": [
      "The day corresponding to 3 is Wednesday.\n"
     ]
    }
   ],
   "source": [
    "# Get the user input for the day number\n",
    "day_number=int(input('enter a number (1-7) to determine the day of the week:'))\n",
    "\n",
    "# Check the input and determine the day of the week\n",
    "if day_number==1:\n",
    "    day_name=\"Monday\"\n",
    "elif day_number==2:\n",
    "    day_name='Tuesday'\n",
    "elif day_number==3:\n",
    "    day_name='Wednesday'\n",
    "elif day_number==4:\n",
    "    day_name='Thursday'\n",
    "elif day_number==5:\n",
    "    day_name='Friday'\n",
    "elif day_number==6:\n",
    "    day_name='Saturday'\n",
    "elif day_number==7:\n",
    "    day_name='Sunday'\n",
    "else:\n",
    "    day_name=\"Invalid input. Please enter a number between 1 and 7.\"\n",
    "\n",
    "# Display the result\n",
    "print(f\"The day corresponding to {day_number} is {day_name}.\")"
   ]
  },
  {
   "cell_type": "markdown",
   "id": "f317384e-207d-4b80-80ea-bc69a8b6ff75",
   "metadata": {},
   "source": [
    "14. Create a Python program that checks if a given year is a leap year using both if-else and a function."
   ]
  },
  {
   "cell_type": "code",
   "execution_count": 5,
   "id": "4760ef89-e027-4fe3-a6e9-06b86a7858ff",
   "metadata": {},
   "outputs": [
    {
     "name": "stdin",
     "output_type": "stream",
     "text": [
      "enter a year to check it's leap year or not: 9807\n"
     ]
    },
    {
     "name": "stdout",
     "output_type": "stream",
     "text": [
      "9807 is not a leap year.\n"
     ]
    }
   ],
   "source": [
    "# Define a function to check leap year\n",
    "\n",
    "def is_leap_year(year):\n",
    "    if (year%4==0 and year%100!=0) or (year%400==0):\n",
    "        return True\n",
    "    else:\n",
    "        return False\n",
    "    \n",
    "# Take year as user input\n",
    "year=int(input(\"enter a year to check it's leap year or not:\"))\n",
    "\n",
    "# Check for leap year and print the result\n",
    "if is_leap_year(year):\n",
    "    print(f\"{year} is a leap year.\")\n",
    "else:\n",
    "    print(f\"{year} is not a leap year.\")"
   ]
  },
  {
   "cell_type": "markdown",
   "id": "6eb8e3ec-472c-42ea-8fed-c28b7599ec31",
   "metadata": {},
   "source": [
    "15. How do you use the 'assert' statement in Python to add debugging checks within if-else blocks?"
   ]
  },
  {
   "cell_type": "code",
   "execution_count": 10,
   "id": "c1a09a60-a768-4856-97c3-01085f83e39d",
   "metadata": {},
   "outputs": [
    {
     "name": "stdout",
     "output_type": "stream",
     "text": [
      "x is positive\n"
     ]
    }
   ],
   "source": [
    "x=50\n",
    "\n",
    "# Add an assert statement to check if x is positive\n",
    "\n",
    "assert x>0,  'x should be a positive number'\n",
    "\n",
    "# if x is positive, execute some code\n",
    "if x>0:\n",
    "    result=\"x is positive\"\n",
    "else:\n",
    "    result='x is non-positive'\n",
    "    \n",
    "print(result)"
   ]
  },
  {
   "cell_type": "markdown",
   "id": "9b08a324-a6c5-4cb3-8893-0a1bd0d763bf",
   "metadata": {},
   "source": [
    "16. Create a Python program that determines the eligibility of a person for a senior citizen discount based on age using if-else."
   ]
  },
  {
   "cell_type": "code",
   "execution_count": 12,
   "id": "631b7ed8-4493-49f8-b09a-581984561464",
   "metadata": {},
   "outputs": [
    {
     "name": "stdin",
     "output_type": "stream",
     "text": [
      "enter your age: 59\n"
     ]
    },
    {
     "name": "stdout",
     "output_type": "stream",
     "text": [
      "Sorry, you are not eligible for a senior citizen discount.\n"
     ]
    }
   ],
   "source": [
    "def is_eligible(age):\n",
    "    if age>=60:\n",
    "        print(\"Congratulation! You are eligible for a senior citizen discount.\")\n",
    "    else:\n",
    "        print(\"Sorry, you are not eligible for a senior citizen discount.\")\n",
    "\n",
    "# Get user input \n",
    "\n",
    "age=int(input('enter your age:'))\n",
    "is_eligible(age)"
   ]
  },
  {
   "cell_type": "markdown",
   "id": "d5e1f8c9-f32c-47a9-8d96-e14b69baa1cb",
   "metadata": {},
   "source": [
    "17. Write a Python program to categorize a given character as uppercase, lowercase, or neither using if-else."
   ]
  },
  {
   "cell_type": "code",
   "execution_count": 20,
   "id": "f8c621b3-9245-4412-984a-212bfbd8b561",
   "metadata": {},
   "outputs": [
    {
     "name": "stdin",
     "output_type": "stream",
     "text": [
      "enter a alphabet character to check whether it is lower or uppercase: N\n"
     ]
    },
    {
     "name": "stdout",
     "output_type": "stream",
     "text": [
      "This is a uppercase character.\n"
     ]
    }
   ],
   "source": [
    "def categorize_char(char):\n",
    "    if char.islower():\n",
    "        print('This is a lowercase character.')\n",
    "    elif char.isupper():\n",
    "        print('This is a uppercase character.')\n",
    "    else:\n",
    "        print(\"it's neither a lowercase nor uppercase character.\")\n",
    "        \n",
    "char=input('enter a alphabet character to check whether it is lower or uppercase:')\n",
    "\n",
    "categorize_char(char)"
   ]
  },
  {
   "cell_type": "markdown",
   "id": "6c1a0939-7afd-4a90-8e7e-fb66b7aa5695",
   "metadata": {},
   "source": [
    "18. Write a Python program to determine the roots of a quadratic equation using if-else."
   ]
  },
  {
   "cell_type": "code",
   "execution_count": 1,
   "id": "1a970271-ce51-4bfd-91c4-e36efaa4b53a",
   "metadata": {},
   "outputs": [
    {
     "name": "stdin",
     "output_type": "stream",
     "text": [
      "enter the coefficient a: 7\n",
      "enter the coefficient b: 9\n",
      "enter the coefficient c: 5\n"
     ]
    },
    {
     "name": "stdout",
     "output_type": "stream",
     "text": [
      "Complex roots: root1= -0.6428571428571429 + 0.5486532677049005 i and root2 = -0.6428571428571429 - 0.5486532677049005 i\n"
     ]
    }
   ],
   "source": [
    "import math\n",
    "\n",
    "# Input coefficients from the user\n",
    "a=float(input('enter the coefficient a:'))\n",
    "b=float(input('enter the coefficient b:'))\n",
    "c=float(input('enter the coefficient c:'))\n",
    "\n",
    "# Calculate the discriminant\n",
    "\n",
    "D=b**2-4*a*c\n",
    "\n",
    "# Use if-else statement to determine the roots\n",
    "if D>0:\n",
    "    # Two distinct real roots\n",
    "    root1=(-b+math.sqrt(D))/(2*a)\n",
    "    root2=(-b-math.sqrt(D))/(2*a)\n",
    "    print(\"Two distinct real roots: root1=\",root1, \"and root2=\", root2)\n",
    "elif D==0:\n",
    "    # One real root (double root)\n",
    "    root=-b/(2*a)\n",
    "    print(\"One real root:\", root)\n",
    "else:\n",
    "    # Complex roots\n",
    "    real_part=-b/(2*a)\n",
    "    imaginary_part=math.sqrt(abs(D))/(2*a)\n",
    "    print(\"Complex roots: root1=\", real_part, \"+\", imaginary_part, \"i and root2 =\", real_part, \"-\", imaginary_part,\"i\")"
   ]
  },
  {
   "cell_type": "markdown",
   "id": "612a9f39-a93b-4ff2-be1b-08ff798da73e",
   "metadata": {},
   "source": [
    "19. Create a Python program that checks if a given year is a century year or not using if-else."
   ]
  },
  {
   "cell_type": "code",
   "execution_count": 4,
   "id": "6b777668-d282-4597-8847-fb193e202217",
   "metadata": {},
   "outputs": [
    {
     "name": "stdin",
     "output_type": "stream",
     "text": [
      "enter a year: 1900\n"
     ]
    },
    {
     "name": "stdout",
     "output_type": "stream",
     "text": [
      "1900 is a century year.\n"
     ]
    }
   ],
   "source": [
    "def check_century_year(year):\n",
    "    if year%100==0:\n",
    "        print(f\"{year} is a century year.\")\n",
    "    else:\n",
    "        print(f\"{year} is not a century year.\")\n",
    "        \n",
    "\n",
    "year=int(input('enter a year:'))\n",
    "check_century_year(year)"
   ]
  },
  {
   "cell_type": "markdown",
   "id": "a86e1d8a-bd41-44e7-839d-fcd2151bd8cc",
   "metadata": {},
   "source": [
    "20. Write a Python program to determine if a given number is a perfect square using if-else."
   ]
  },
  {
   "cell_type": "code",
   "execution_count": 40,
   "id": "1d6c4f6d-7c96-465e-a84e-3bcbf57d2f13",
   "metadata": {},
   "outputs": [
    {
     "name": "stdin",
     "output_type": "stream",
     "text": [
      "enter a number to check whether it is perfect square or not: 10000\n"
     ]
    },
    {
     "name": "stdout",
     "output_type": "stream",
     "text": [
      "10000 is a perfect square.\n"
     ]
    }
   ],
   "source": [
    "import math\n",
    "def is_perfect_square(num):\n",
    "    \n",
    "    if math.sqrt(num).is_integer():\n",
    "        print(f\"{num} is a perfect square.\")\n",
    "    else:\n",
    "        print(f\"{num} is not a perfect square.\")\n",
    "        \n",
    "num=int(input('enter a number to check whether it is perfect square or not:'))\n",
    "is_perfect_square(num)"
   ]
  },
  {
   "cell_type": "markdown",
   "id": "05400ac3-358a-4edc-ae7e-9ec2a65f46e6",
   "metadata": {},
   "source": [
    "21. Explain the purpose of the 'continue' and 'break' statements within if-else loops."
   ]
  },
  {
   "cell_type": "markdown",
   "id": "ae8b8639-271c-42ae-a18d-b1268095f867",
   "metadata": {},
   "source": [
    "The 'continue' and 'break' statements are control flow statements in Python that are often used within loops, including 'for' and 'while' loops, to modify the flow of the program.\n",
    "\n",
    "1. 'continue' statement:\n",
    "    * Purpose: The 'continue' statement is used to skip the current iteration of a loop and move on to the next iteration, effectively ignoring the remaining code withing the current iteration.\n",
    "    \n",
    "    * Use cases:\n",
    "        \n",
    "        \n",
    "        *Filtering: You can use 'continue' to skip specific items or values in a loop based on certain conditions. For example, if you're iteration through a list and want to skip items that meet a particular criterion.\n",
    "        \n",
    "        \n",
    "        *Error handling: In situations where you want to continue processing other items in a loop, even if there's an error in the current item, you can use 'continue' to skip the problematic item and continue with the rest.\n",
    "\n",
    "\n",
    "Example of using 'continue' to skip even numbers in a loop."
   ]
  },
  {
   "cell_type": "code",
   "execution_count": 42,
   "id": "b51e7f41-14d7-473c-aa0e-2f7f4e0ec2ac",
   "metadata": {},
   "outputs": [
    {
     "name": "stdout",
     "output_type": "stream",
     "text": [
      "1 3 5 7 9 11 13 15 17 19 "
     ]
    }
   ],
   "source": [
    "for i in range(1,21):\n",
    "    if i%2==0:\n",
    "        continue # Skip even numbers\n",
    "    print(i,end=' ')"
   ]
  },
  {
   "cell_type": "markdown",
   "id": "7b138351-805e-40d7-a185-5391134e4af3",
   "metadata": {},
   "source": [
    "2. 'break statement':\n",
    "    \n",
    "    *Purpose: The 'break' statement is used to exit a loop prematurely, even before it completes all iterations. It terminates the loop and moves the program's control to the next statement after the loop.\n",
    "    \n",
    "    *Use cases:\n",
    "        \n",
    "        \n",
    "        * Searching : You can use 'break' when you've found what you're looking for and no longer need to continue looping. For example, when searching for a specific item in a list, once you find it, you can break out of the loop.\n",
    "        \n",
    "        \n",
    "        * Terminating: In cases where a specific condition is met, and there's no need to continue processing the remaining items, 'break' can be used to exit the loop.\n",
    "        \n",
    "\n",
    "Example of using 'break' to exit a loop when a specific condition is met:"
   ]
  },
  {
   "cell_type": "code",
   "execution_count": 2,
   "id": "96b907dc-d89d-4dd6-a6d8-7ecc49a79078",
   "metadata": {},
   "outputs": [
    {
     "name": "stdout",
     "output_type": "stream",
     "text": [
      "4 5 6 2 7 8 9 8 7 6 5 "
     ]
    }
   ],
   "source": [
    "numbers=[4,5,6,2,7,8,9,8,7,6,5,44,33]\n",
    "\n",
    "for num in numbers:\n",
    "    if num>20:\n",
    "        break  # Exit the loop when a number greater than 20 is found\n",
    "    print(num,end=' ')"
   ]
  },
  {
   "cell_type": "markdown",
   "id": "191f1ea3-5f11-49ec-bf36-65229a5f53b9",
   "metadata": {},
   "source": [
    "22. Create a Python program that calculates the BMI (Body Mass Index) of a person based on their weitht and height using if-else."
   ]
  },
  {
   "cell_type": "code",
   "execution_count": 2,
   "id": "555e5a14-8215-4fb8-bad9-8f92153700a8",
   "metadata": {},
   "outputs": [
    {
     "name": "stdin",
     "output_type": "stream",
     "text": [
      "enter your weight in kilogram: 50\n",
      "enter your height in meter: 1.6\n"
     ]
    },
    {
     "name": "stdout",
     "output_type": "stream",
     "text": [
      "Your BMI is: 19.531249999999996\n",
      "Category: Normal Weight\n"
     ]
    }
   ],
   "source": [
    "def calculate_bmi(weight, height): \n",
    "    if bmi<18.5:\n",
    "        category='Underweight'\n",
    "    elif 18.5<=bmi<24.9:\n",
    "        category='Normal Weight'\n",
    "    elif 25<=bmi<29.9:\n",
    "        category='Overweight'\n",
    "    else:\n",
    "        category='Obese'\n",
    "    return category\n",
    "\n",
    "# User input \n",
    "weight=float(input('enter your weight in kilogram:'))\n",
    "height=float(input('enter your height in meter:'))\n",
    "bmi=weight/(height**2)\n",
    "    \n",
    "category=calculate_bmi(weight, height)\n",
    "print(\"Your BMI is:\",bmi)\n",
    "print('Category:',category)"
   ]
  },
  {
   "cell_type": "markdown",
   "id": "977879ca-6d50-4d9f-b5ea-26316eda38e1",
   "metadata": {},
   "source": [
    "23. How can you use the 'filter()' function with if-else statements to filter elements from a list?"
   ]
  },
  {
   "cell_type": "code",
   "execution_count": 3,
   "id": "1bc94e3e-ebb3-4cd4-9cd4-3cf9fb147f8d",
   "metadata": {},
   "outputs": [
    {
     "name": "stdout",
     "output_type": "stream",
     "text": [
      "[1, 3, 5, 7, 9]\n"
     ]
    }
   ],
   "source": [
    "# Define a list of numbers\n",
    "numbers=[1,2,3,4,5,6,7,8,9,0,10]\n",
    "\n",
    "# Define a custom filtering function using if-else\n",
    "def custom_filter(x):\n",
    "    if x%2!=0:\n",
    "        return True  # Include odd numbers\n",
    "    else:\n",
    "        return False # Exclude even numbers\n",
    "    \n",
    "# Use filter() with the custom function\n",
    "filtered_numbers=list(filter(custom_filter,numbers))\n",
    "\n",
    "# Display the filtered result\n",
    "print(filtered_numbers)"
   ]
  },
  {
   "cell_type": "markdown",
   "id": "006fa285-7ce1-4d01-835d-3dd517c97671",
   "metadata": {},
   "source": [
    "24. Write a python program to determine if a given number is prime or not using if-else."
   ]
  },
  {
   "cell_type": "code",
   "execution_count": 18,
   "id": "2ddcc0c9-4a1f-4193-ae42-2db99aed36ef",
   "metadata": {},
   "outputs": [
    {
     "name": "stdin",
     "output_type": "stream",
     "text": [
      "enter a number: 83\n"
     ]
    },
    {
     "name": "stdout",
     "output_type": "stream",
     "text": [
      "83 is a prime number.\n"
     ]
    }
   ],
   "source": [
    "# Input a number from the user\n",
    "\n",
    "num=int(input('enter a number:'))\n",
    "\n",
    "# Check if the number is less than 2 (prime numbers must be greater than 1) \n",
    "if num<2:\n",
    "    is_prime=False\n",
    "else:\n",
    "    is_prime=True\n",
    "    for i in range(2,num):\n",
    "        if num%i==0:\n",
    "            is_prime=False\n",
    "            break\n",
    "# Display the result \n",
    "if is_prime:\n",
    "    print(f\"{num} is a prime number.\")\n",
    "else:\n",
    "    print(f\"{num} is not a prime number.\")"
   ]
  },
  {
   "cell_type": "markdown",
   "id": "cd51f759-43ba-4457-ae4d-69e773df9c65",
   "metadata": {},
   "source": [
    "# Map"
   ]
  },
  {
   "cell_type": "markdown",
   "id": "aecd0480-6b6d-42f2-8763-adbe246dc603",
   "metadata": {},
   "source": [
    "1. Explain the purpose of the 'map()' function in Python and provide an example of how it can be used to apply a function to each element of an iterable."
   ]
  },
  {
   "cell_type": "markdown",
   "id": "6d09ba44-fe38-4cae-94a0-d77a8fb67839",
   "metadata": {},
   "source": [
    "The 'map()' function in Python is used to apply a given function to every item in an iterable (such as a list, tuple, or other sequence) and return a new iterable with the results. It essentially transforms each element in the input iterable according to the specified function and returns the transformed values in a new iterable, typically a map object or a list.\n",
    "\n",
    "The basic syntax of the 'map()' function is as follows:"
   ]
  },
  {
   "cell_type": "markdown",
   "id": "817bafd7-f1b0-43c2-abed-cae7cdfba566",
   "metadata": {},
   "source": [
    "map(function, iterable)"
   ]
  },
  {
   "cell_type": "markdown",
   "id": "4a3644b6-d80f-4f75-9657-4e4fdfe4f78f",
   "metadata": {},
   "source": [
    "* 'function': This is the function you want to apply to each element in the iterable.\n",
    "\n",
    "* 'iterable': This is the sequence of elements you want to process.\n",
    "\n",
    "Here's an example of how the 'map()' function can be used to apply a function to each element of a list:"
   ]
  },
  {
   "cell_type": "code",
   "execution_count": 22,
   "id": "b5911277-7a16-4231-ae9b-6e5fdd3fd1b1",
   "metadata": {},
   "outputs": [
    {
     "name": "stdout",
     "output_type": "stream",
     "text": [
      "[1, 4, 9, 16, 25, 36, 49, 64, 81]\n"
     ]
    }
   ],
   "source": [
    "# Define a function to square a number\n",
    "def square(x):\n",
    "    return x**2\n",
    "\n",
    "# Create a list of numbers\n",
    "numbers=[1,2,3,4,5,6,7,8,9]\n",
    "\n",
    "# Use map() to apply the square function to each element in the list\n",
    "squared_numbers=map(square,numbers)\n",
    "\n",
    "# Convert the map object to a list to see the results\n",
    "squared_numbers_list=list(squared_numbers)\n",
    "\n",
    "print(squared_numbers_list)"
   ]
  },
  {
   "cell_type": "markdown",
   "id": "6803f7d4-119b-4ec1-99d0-95f0dd0e782b",
   "metadata": {},
   "source": [
    "2. Write a Python program that uses the 'map()' function to square each element of a list of numbers."
   ]
  },
  {
   "cell_type": "code",
   "execution_count": 23,
   "id": "afc5b4e6-cdc3-4fcb-94a9-596daec95058",
   "metadata": {},
   "outputs": [
    {
     "name": "stdout",
     "output_type": "stream",
     "text": [
      "[121, 484, 1089, 1936, 3025, 4356, 5929, 7744]\n"
     ]
    }
   ],
   "source": [
    "# Define a function\n",
    "def square(num):\n",
    "    return num**2\n",
    "\n",
    "num_list=[11,22,33,44,55,66,77,88]\n",
    "\n",
    "# Using a map() function\n",
    "squared=map(square, num_list)\n",
    "\n",
    "# Converting it in list of squares\n",
    "squared_list=list(squared)\n",
    "print(squared_list)"
   ]
  },
  {
   "cell_type": "markdown",
   "id": "6ba5c209-bcf8-403e-bf36-5b1e379ad900",
   "metadata": {},
   "source": [
    "3. How does the 'map()' function differ from a list comprehension in python, and when would you choose one over the other?"
   ]
  },
  {
   "cell_type": "markdown",
   "id": "69ce0268-4cc4-4520-b77f-f01cae2f2058",
   "metadata": {},
   "source": [
    "'map()' and list comprehensions are both used for transforming elements in an iterable, but they have different syntax and use cases. Here's how they differ and when you might choose one over the other:\n",
    "\n",
    "\n",
    "1. Syntax:\n",
    "    \n",
    "    *'map()':\n",
    "        \n",
    "        * 'map(function, iterable)' is a higher-order function that takes a function and an iterable as arguments.\n",
    "        \n",
    "        * It returns a map object, which is an iterable. You often need to convert it into a list or another iterable type to see the results.\n",
    "        \n",
    "    *List Comprehension:\n",
    "        \n",
    "        * List comprehensions have a more concise and expressive syntax that allows you to create a new list by applying an expression to each element of an iterable, along with an optional condition.\n",
    "        \n",
    "\n",
    "2. Readability:\n",
    "    \n",
    "    * List comprehensions are generally more readable and pythonic for simple transformations, especially when you're creating a new list from an existing one.\n",
    "    \n",
    "    * 'map()' can sometimes be less readable due to the need for an external function definition and the requirement to pass the function explicitly.\n",
    "\n",
    "3. Functionality:\n",
    "    \n",
    "    *'map()' is more flexible when you want to apply a predefined function to an iterable. It's particularly useful when you have a complex function or when you want to apply the same function to multiple iterables simultaneously.\n",
    "    \n",
    "    *List comprehensions are limited to applying expressions to elements, so if you need to perform a complex operation that involves multiple lines of code, 'map()' with a custom function is a better choice.\n",
    "    \n",
    "    \n",
    "4.Lazy Evaluation:\n",
    "    \n",
    "    *'map()' returns a map object, which is an iterable with lazy evaluation. It doesn't compute values until you iterate over it, making it memory-efficient for large datasets.\n",
    "    \n",
    "    *List comprehensions create a new list immediately, so they are not suitable for very large datasets.\n",
    "    \n",
    "5.Performance:\n",
    "    \n",
    "    * In some cases, 'map()' might offer slightly better performance due to its lazy evaluation, but the difference is lften negligible for most use cases.\n",
    "    \n",
    "\n",
    "In summary, here are some general guidelines for choosing between 'map()' and list comprehensions:\n",
    "    \n",
    "\n",
    "* Use'map()' with a predefined function when you need to apply the same operation to multiple iterables, or when you're working with complex operations.\n",
    "\n",
    "* Use list comprehensions when you want a concise and readable way to create a new list from an existing one, especially when the operation is simple and doesn't require a separate function.\n",
    "\n",
    "* Consider performance and memory efficiency when working with large datasets; 'map()' can be more memory-efficient due to lazy evaluation.\n"
   ]
  },
  {
   "cell_type": "code",
   "execution_count": 1,
   "id": "c8bd36e8-1427-4c5b-8976-201b94a506ce",
   "metadata": {},
   "outputs": [
    {
     "name": "stdout",
     "output_type": "stream",
     "text": [
      "[1, 4, 9, 16, 25]\n"
     ]
    }
   ],
   "source": [
    "# map() example\n",
    "\n",
    "def square(x):\n",
    "    return x**2\n",
    "\n",
    "# list of numbers\n",
    "numbers=[1,2,3,4,5]\n",
    "\n",
    "# Use map() to apply the square function to each element in the list\n",
    "square_numbers=map(square,numbers)\n",
    "\n",
    "# Convert the map object to list to see the squared numbers\n",
    "squared_numbers_list=list(square_numbers)\n",
    "print(squared_numbers_list)"
   ]
  },
  {
   "cell_type": "markdown",
   "id": "1f9d5b2a-6edb-46db-a57c-3a9c0bd40e54",
   "metadata": {},
   "source": [
    "4. Create a Python program that uses the 'map()' function to convert a list of names to uppercase."
   ]
  },
  {
   "cell_type": "code",
   "execution_count": 3,
   "id": "a1a5c6fb-f4a8-44a6-953b-a7635b120950",
   "metadata": {},
   "outputs": [
    {
     "name": "stdout",
     "output_type": "stream",
     "text": [
      "The Uppercase name list is:\n",
      "['NAGSEN', 'KHANDARE', 'DATA', 'SCIENCE', 'PRO']\n"
     ]
    }
   ],
   "source": [
    "def uppercase(x):\n",
    "    return x.upper()\n",
    "\n",
    "# create name list\n",
    "name_list=['nagsen','khandare','data', 'science','pro']\n",
    "\n",
    "# use map() \n",
    "uppercase_obj=map(uppercase, name_list)\n",
    "\n",
    "# Getting th list of uppercase name\n",
    "lst=list(uppercase_obj)\n",
    "\n",
    "print('The Uppercase name list is:')\n",
    "print(lst)"
   ]
  },
  {
   "cell_type": "markdown",
   "id": "0dd3e841-bf7d-479d-b1f8-eb2bbb9981cb",
   "metadata": {},
   "source": [
    "5. Write a Python program that uses the 'map()' function to calculate the length of each word in a list of strings."
   ]
  },
  {
   "cell_type": "code",
   "execution_count": 5,
   "id": "2b866da0-f375-449e-8c22-1e5e75a25692",
   "metadata": {},
   "outputs": [
    {
     "name": "stdout",
     "output_type": "stream",
     "text": [
      "The list of length of words in string list is:\n",
      "[4, 5, 4, 7, 3, 3]\n"
     ]
    }
   ],
   "source": [
    "# define a function\n",
    "def length(x):\n",
    "    return len(x)\n",
    "\n",
    "# list of strings\n",
    "lst=['full','stack','data', 'science','pro','max']\n",
    "\n",
    "# create a object \n",
    "obj_lst=map(length, lst)\n",
    "\n",
    "# Getting list of length of words\n",
    "word_length=list(obj_lst)\n",
    "print('The list of length of words in string list is:')\n",
    "print(word_length)"
   ]
  },
  {
   "cell_type": "markdown",
   "id": "244f58ac-6787-44da-a694-95ece613bdd8",
   "metadata": {},
   "source": [
    "6. How can you use the 'map()' function to apply a custom function to elements of multiple lists simultaneously in Python?"
   ]
  },
  {
   "cell_type": "code",
   "execution_count": 17,
   "id": "1c4a691a-2235-40dd-805c-d2133ced7472",
   "metadata": {},
   "outputs": [
    {
     "name": "stdout",
     "output_type": "stream",
     "text": [
      "[66, 308, 792, 0, 50]\n"
     ]
    }
   ],
   "source": [
    "# define a function\n",
    "def cube(x,y,z):\n",
    "    return x*y*z\n",
    "\n",
    "# taking lst\n",
    "\n",
    "lst=[1,2,3,4,5]\n",
    "\n",
    "lst1=[6,7,8,9,10]\n",
    "\n",
    "lst2=[11,22,33,0,1]\n",
    "\n",
    "# Use map() and create a object or generator expression\n",
    "\n",
    "object_map=map(cube,lst,lst1,lst2)\n",
    "\n",
    "lst_obj=list(object_map)\n",
    "print(lst_obj)"
   ]
  },
  {
   "cell_type": "markdown",
   "id": "c9fd115d-e5a0-458f-8dc7-43f4b0f936b0",
   "metadata": {},
   "source": [
    "7. Create a Python program that uses 'map()' to convert a list of temperatures from Celsius to Fahrenheit."
   ]
  },
  {
   "cell_type": "code",
   "execution_count": 36,
   "id": "96eceb39-8366-4126-904b-e10e71b98500",
   "metadata": {},
   "outputs": [
    {
     "name": "stdout",
     "output_type": "stream",
     "text": [
      "44C is 111.2F\n",
      "55C is 131.0F\n",
      "33C is 91.4F\n",
      "22C is 71.6F\n",
      "77C is 170.6F\n",
      "88C is 190.4F\n",
      "66C is 150.8F\n",
      "56C is 132.8F\n",
      "56C is 132.8F\n"
     ]
    }
   ],
   "source": [
    "# Define a function to convert Celsius to Fahrenheit\n",
    "\n",
    "def celsius_to_fahrenheit(celsius):\n",
    "    return (celsius*9/5)+32\n",
    "\n",
    "# list of celsius temperature\n",
    "celsius_temperature=[44,55,33,22,77,88,66,56,56]\n",
    "\n",
    "# Use map() function to create a object\n",
    "obj=map(celsius_to_fahrenheit,celsius_temperature)\n",
    "\n",
    "# create list\n",
    "fahrenheit_temperature=list(obj)\n",
    "\n",
    "# Display the converted temperature\n",
    "\n",
    "for i, j in zip(celsius_temperature,fahrenheit_temperature):\n",
    "    print(f\"{i} Celsius is {j} Fahrenhei\")"
   ]
  },
  {
   "cell_type": "markdown",
   "id": "cbd25c29-9897-4f8c-84fa-e85299556a2e",
   "metadata": {},
   "source": [
    "8. Write a Python program that uses the 'map()' function to round each element of a list of floating-point numbers to the nearest integer."
   ]
  },
  {
   "cell_type": "code",
   "execution_count": 10,
   "id": "c0f1b97b-4f3c-4127-92b7-049cd94606c2",
   "metadata": {},
   "outputs": [
    {
     "name": "stdout",
     "output_type": "stream",
     "text": [
      "Original list: [3.14, 3.12, 1.5, 31.718, 11.6, 11.4]\n",
      "Rounded to nearest integer: [3, 3, 2, 32, 12, 11]\n"
     ]
    }
   ],
   "source": [
    "# function to round a number to the nearest integer\n",
    "\n",
    "def round_to_integer(number):\n",
    "    return round(number)\n",
    "\n",
    "# list of floating-point numbers\n",
    "float_numbers=[3.14,3.12,1.5,31.718,11.6,11.4]\n",
    "\n",
    "# Use map function to round each element to the nearest integer\n",
    "\n",
    "rounded_integers=list(map(round_to_integer,float_numbers))\n",
    "\n",
    "# print the original and rounded list\n",
    "print('Original list:',float_numbers)\n",
    "print('Rounded to nearest integer:',rounded_integers)"
   ]
  },
  {
   "cell_type": "markdown",
   "id": "1f642865-e1a9-49a2-a117-b45bb17a567b",
   "metadata": {},
   "source": [
    "# Reduce"
   ]
  },
  {
   "cell_type": "markdown",
   "id": "872f413f-9600-4fcd-8324-25b676b3b4d7",
   "metadata": {},
   "source": [
    "1. What is the 'reduce()' function in python, and what module should you import to use it? Provide an example of its basic usage."
   ]
  },
  {
   "cell_type": "markdown",
   "id": "06759428-5ee2-467f-b21d-8b74ce186592",
   "metadata": {},
   "source": [
    "The 'reduce()' function in python is part of the 'functools' module. It is used for aggregating elements of an iterable, applying a specified function cumulatively to the items, and reducing the iterable to a single accumulated result.\n",
    "\n",
    "\n",
    "To use the 'reduce()' function, you need to import it from the 'functools' module. Here's a simple example to illustrate its basic usage:\n"
   ]
  },
  {
   "cell_type": "code",
   "execution_count": 11,
   "id": "10f604fc-ca01-4dd8-875c-09fb62a0e356",
   "metadata": {},
   "outputs": [
    {
     "name": "stdout",
     "output_type": "stream",
     "text": [
      "Sum of the numbers: 53.5\n"
     ]
    }
   ],
   "source": [
    "from functools import reduce\n",
    "\n",
    "# Example: Summing up elements in a list using reduce\n",
    "numbers=[2,3,33,4,5,6.5]\n",
    "\n",
    "# Define a function to add two numbers\n",
    "def add(a,b):\n",
    "    return a+b\n",
    "\n",
    "# use reduce() to find the sum of the numbers list\n",
    "sum_result=reduce(add,numbers)\n",
    "\n",
    "# print the result\n",
    "print('Sum of the numbers:', sum_result)"
   ]
  },
  {
   "cell_type": "markdown",
   "id": "0db3b113-70a1-433c-a26a-26f6035d6893",
   "metadata": {},
   "source": [
    "2. Write a Python program that uses the 'reduce()' function to find the product of all elements in a list."
   ]
  },
  {
   "cell_type": "code",
   "execution_count": 12,
   "id": "762af772-b1cb-4463-89fc-ccbb84fd731b",
   "metadata": {},
   "outputs": [
    {
     "name": "stdout",
     "output_type": "stream",
     "text": [
      "The product of the numbers: 3628800\n"
     ]
    }
   ],
   "source": [
    "from functools import reduce\n",
    "# define a function to multiply the numbers\n",
    "\n",
    "def product(a,b):\n",
    "    return a*b\n",
    "\n",
    "# numbers list\n",
    "numbers=[1,2,3,4,5,6,7,8,9,10]\n",
    "\n",
    "# use reduce() function\n",
    "\n",
    "result=reduce(product,numbers)\n",
    "\n",
    "# print the result\n",
    "print('The product of the numbers:',result)"
   ]
  },
  {
   "cell_type": "markdown",
   "id": "1d9ae1de-56ab-4ce8-aabd-43bd2f23151a",
   "metadata": {},
   "source": [
    "3. Create a Python program that uses 'reduce()' to find the maximum element in a list of numbers."
   ]
  },
  {
   "cell_type": "code",
   "execution_count": 19,
   "id": "70b592aa-9492-4266-bd72-0e581a54ad25",
   "metadata": {},
   "outputs": [
    {
     "name": "stdout",
     "output_type": "stream",
     "text": [
      "The maximum element in list is: 99\n"
     ]
    }
   ],
   "source": [
    "from functools import reduce\n",
    "max_element=1\n",
    "# define a function\n",
    "def findmax_element(a,b):\n",
    "    return max(a,b)\n",
    "\n",
    "number_list=[33,44,5,6,77,99]\n",
    "\n",
    "# use reduce function\n",
    "\n",
    "result=reduce(findmax_element,number_list)\n",
    "\n",
    "# print result\n",
    "\n",
    "print('The maximum element in list is:',result)"
   ]
  },
  {
   "cell_type": "markdown",
   "id": "60206a42-6df4-442b-9e24-c8a28e321c18",
   "metadata": {},
   "source": [
    "4. How can you use the 'reduce()' function to concatenate a list of strings into a single string?"
   ]
  },
  {
   "cell_type": "code",
   "execution_count": 23,
   "id": "2c60d676-1315-4946-b2b9-56bb4a19d549",
   "metadata": {},
   "outputs": [
    {
     "name": "stdout",
     "output_type": "stream",
     "text": [
      "The concatenated string is: fullstackdatasciencepro\n"
     ]
    }
   ],
   "source": [
    "from functools import reduce\n",
    "\n",
    "# define a function\n",
    "def concat_string(a,b):\n",
    "    return a+b\n",
    "\n",
    "string_list=['full','stack','data','science','pro']\n",
    "\n",
    "# use reduce to concatenate string\n",
    "\n",
    "result=reduce(concat_string,string_list)\n",
    "\n",
    "# print result\n",
    "print('The concatenated string is:',result)"
   ]
  },
  {
   "cell_type": "markdown",
   "id": "107c03d2-e6bb-4ff5-9413-1faf13f7bc31",
   "metadata": {},
   "source": [
    "5. Write a Python program that calculates the factorial of a number using the 'reduce()' function."
   ]
  },
  {
   "cell_type": "code",
   "execution_count": 4,
   "id": "cf3d84a5-de6b-4a73-acd3-4fd74cd128aa",
   "metadata": {},
   "outputs": [
    {
     "name": "stdin",
     "output_type": "stream",
     "text": [
      "enter number to find factorial: 10\n"
     ]
    },
    {
     "name": "stdout",
     "output_type": "stream",
     "text": [
      "The factorial of 10 is: 3628800\n"
     ]
    }
   ],
   "source": [
    "from functools import reduce\n",
    "\n",
    "# define a function\n",
    "def multiply(x,y):\n",
    "    return x*y\n",
    "\n",
    "# function to calculate factorial\n",
    "def factorial(n):\n",
    "    return reduce(multiply,range(1,n+1),1)\n",
    "\n",
    "number=int(input('enter number to find factorial:'))\n",
    "\n",
    "# calculate and print the factorial\n",
    "result=factorial(number)\n",
    "print(f\"The factorial of {number} is:\",result)"
   ]
  },
  {
   "cell_type": "markdown",
   "id": "84848039-1386-40d8-aa00-e5a1824b9372",
   "metadata": {},
   "source": [
    "6. Create a Python program that uses 'reduce()' to find the GCD (Greatest Common Divisor) of a list of numbers."
   ]
  },
  {
   "cell_type": "code",
   "execution_count": 13,
   "id": "f71ce835-b0e0-4530-b45e-aea58e93f1cb",
   "metadata": {},
   "outputs": [
    {
     "name": "stdout",
     "output_type": "stream",
     "text": [
      "Greatest Common Divisor of the numbers: 12\n"
     ]
    }
   ],
   "source": [
    "from functools import reduce\n",
    "\n",
    "# function to calculate the GCD of two numbers using Euclidean Algorithm\n",
    "def calculate_gcd(x,y):\n",
    "    while y:\n",
    "        x,y=y,x%y\n",
    "    return x\n",
    "\n",
    "# list of numbers\n",
    "numbers=[24,36,48,60,72]\n",
    "\n",
    "# use reduce() function with calculate_gcd function to find GCD of  numbers\n",
    "gcd_result=reduce(calculate_gcd,numbers)\n",
    "\n",
    "# print result\n",
    "\n",
    "print('Greatest Common Divisor of the numbers:',gcd_result)"
   ]
  },
  {
   "cell_type": "markdown",
   "id": "6a4c9d9c-c60b-458f-abf2-da3c02c1885d",
   "metadata": {},
   "source": [
    "7. Write a Python program that uses the 'reduce()' function to find the sum of the digits of a given number."
   ]
  },
  {
   "cell_type": "code",
   "execution_count": 30,
   "id": "928eeaff-e1e0-469e-b678-9612ef487b48",
   "metadata": {},
   "outputs": [
    {
     "name": "stdin",
     "output_type": "stream",
     "text": [
      "enter number to find sum of its digits: 123456789\n"
     ]
    },
    {
     "name": "stdout",
     "output_type": "stream",
     "text": [
      "The sum of digits in number 123456789 is: 45\n"
     ]
    }
   ],
   "source": [
    "from functools import reduce\n",
    "\n",
    "# define a function for sum of digits\n",
    "def sum_of_digits(x,y):\n",
    "    return int(x) + int(y)\n",
    "\n",
    "\n",
    "# take number as user input\n",
    "number=int(input('enter number to find sum of its digits:'))\n",
    "\n",
    "# convert number to string to make iterable\n",
    "number_str=str(number)\n",
    "\n",
    "# use reduce to calculate the sum of digits\n",
    "# third parameter is initial value of x, it will handle the edge cases if number is empty\n",
    "sum_digits=reduce(sum_of_digits,number_str,0)   \n",
    "\n",
    "# print result\n",
    "print(f\"The sum of digits in number {number} is:\", sum_digits)"
   ]
  },
  {
   "cell_type": "markdown",
   "id": "eb403578-4a3e-428b-838a-c26d0aecf340",
   "metadata": {},
   "source": [
    "# Filter"
   ]
  },
  {
   "cell_type": "markdown",
   "id": "eeed968a-0e44-4751-b091-118b6d19e0db",
   "metadata": {},
   "source": [
    "1. Explain the purpose of the 'filter()' function in Python and provide an example of how it can be used to filter elements from an iterable."
   ]
  },
  {
   "cell_type": "markdown",
   "id": "b23ea874-a5f3-48e7-bb35-14fcba9be4be",
   "metadata": {},
   "source": [
    "The 'filter()' function in Python is used to construct an iterator from elemennts of an iterable for which a function returns true. In other words, it filters out the elements from an iterable based on a specified condition. The general syntax of the 'filter()' function is:"
   ]
  },
  {
   "cell_type": "markdown",
   "id": "0b962268-89ca-4881-9424-517bd0b4ccf2",
   "metadata": {},
   "source": [
    " filter(function, iterable)"
   ]
  },
  {
   "cell_type": "markdown",
   "id": "27dcbe4d-15f6-4e98-9760-3e8e59cdd60d",
   "metadata": {},
   "source": [
    "'function': A function that tests whether each element of an iterable satisfies a certain condition. if 'None', it simply returns the elements of the iterable that are true.\n",
    "\n",
    "'iterable': The iterable to be filtered.\n",
    "\n",
    "Here's an example to illustrate how the 'filter()' function can be used:"
   ]
  },
  {
   "cell_type": "code",
   "execution_count": 6,
   "id": "f8c22864-6bb8-4966-a2f9-6d659d09ae2b",
   "metadata": {},
   "outputs": [
    {
     "name": "stdout",
     "output_type": "stream",
     "text": [
      "Original list: [1, 2, 3, 4, 5, 6, 7, 8, 9, 10]\n",
      "Odd numbers: [1, 3, 5, 7, 9]\n"
     ]
    }
   ],
   "source": [
    "# function to check if a number is odd\n",
    "\n",
    "def is_odd(num):\n",
    "    return num%2!=0\n",
    "\n",
    "# list of numbers\n",
    "numbers=[1,2,3,4,5,6,7,8,9,10]\n",
    "\n",
    "# use filter() function to get only even numbers\n",
    "odd_num=list(filter(is_odd,numbers))\n",
    "\n",
    "# print the result\n",
    "print('Original list:',numbers)\n",
    "print('Odd numbers:', odd_num)"
   ]
  },
  {
   "cell_type": "markdown",
   "id": "42291a2f-d702-4a7f-9fb2-13e2f0367ca3",
   "metadata": {},
   "source": [
    "2. Write a Python program that uses the 'filter()' function to select even numbers from a list of integers."
   ]
  },
  {
   "cell_type": "code",
   "execution_count": 7,
   "id": "20ff1ca3-a67e-4440-a417-b76805584097",
   "metadata": {},
   "outputs": [
    {
     "name": "stdout",
     "output_type": "stream",
     "text": [
      "Original list: [1, 2, 3, 4, 5, 6, 7, 8, 9, 10]\n",
      "Even numbers: [2, 4, 6, 8, 10]\n"
     ]
    }
   ],
   "source": [
    "# define function to check if a number is even\n",
    "def is_even(num):\n",
    "    return num%2==0\n",
    "\n",
    "# numbers list\n",
    "numbers=[1,2,3,4,5,6,7,8,9,10]\n",
    "\n",
    "# use filter() function to get even numbers\n",
    "even_num=list(filter(is_even,numbers))\n",
    "\n",
    "# print result\n",
    "print('Original list:',numbers)\n",
    "print('Even numbers:',even_num)"
   ]
  },
  {
   "cell_type": "markdown",
   "id": "51e08b00-ff45-474d-82d8-2337670b9b47",
   "metadata": {},
   "source": [
    "3. Create a Python program that uses the 'filter()' function to select names that start with a specific letter from a list of strings."
   ]
  },
  {
   "cell_type": "code",
   "execution_count": 8,
   "id": "e0ca2574-ef84-47cc-a5a2-b30d17d3d1d2",
   "metadata": {},
   "outputs": [
    {
     "name": "stdout",
     "output_type": "stream",
     "text": [
      "The list of specific words: ['Stack', 'science', 'Scientist']\n"
     ]
    }
   ],
   "source": [
    "# function to check starting letter of string\n",
    "\n",
    "def specific_letter(str1):\n",
    "    return str1[0].lower()=='s'\n",
    "\n",
    "# list of strings\n",
    "string_list=['full','Stack', 'data', 'science', 'pro','Scientist']\n",
    "\n",
    "# use filter function to get specified words\n",
    "specified_string=list(filter(specific_letter,string_list))\n",
    "\n",
    "# print result\n",
    "print('The list of specific words:',specified_string)"
   ]
  },
  {
   "cell_type": "markdown",
   "id": "caf02120-8c81-4e0e-9b0d-17cf1c9ff586",
   "metadata": {},
   "source": [
    "4. Write a Python program that uses the 'filter()' function to select prime numbers from a list of integers."
   ]
  },
  {
   "cell_type": "code",
   "execution_count": 34,
   "id": "5ff4fe54-74ce-43d5-8145-74f2e1ec3841",
   "metadata": {},
   "outputs": [
    {
     "name": "stdout",
     "output_type": "stream",
     "text": [
      "Original list: [1, 2, 3, 4, 5, 6, 7, 8, 9, 10, 11, 12, 13, 14, 15, 16, 17, 18, 19, 20]\n",
      "Prime numbers: [2, 3, 5, 7, 11, 13, 17, 19]\n"
     ]
    }
   ],
   "source": [
    "# function to check if a number is prime\n",
    "def is_prime(num):\n",
    "    if num<2:\n",
    "        return False\n",
    "    for i in range(2,int(num**0.5)+1):\n",
    "        if num%i==0:\n",
    "            return False\n",
    "    return True\n",
    "\n",
    "# list of numbers\n",
    "numbers=[1,2,3,4,5,6,7,8,9,10,11,12,13,14,15,16,17,18,19,20]\n",
    "\n",
    "# use filter() function to select prime numbers\n",
    "prime_numbers=list(filter(is_prime, numbers))\n",
    "\n",
    "# print result\n",
    "print('Original list:',numbers)\n",
    "print('Prime numbers:',prime_numbers)"
   ]
  },
  {
   "cell_type": "markdown",
   "id": "2b40850a-727d-40d5-900e-bcbad18ebf24",
   "metadata": {},
   "source": [
    "5. How can you use the 'filter()' function to remove None values from a list in Python?"
   ]
  },
  {
   "cell_type": "code",
   "execution_count": 35,
   "id": "87ba61a1-365b-4e54-b169-df8dc92946ee",
   "metadata": {},
   "outputs": [
    {
     "name": "stdout",
     "output_type": "stream",
     "text": [
      "Original list: [1, 44, None, 88, 4, 5, None, 9, None]\n",
      "List without None values: [1, 44, 88, 4, 5, 9]\n"
     ]
    }
   ],
   "source": [
    "# list with Nonw values\n",
    "my_list=[1,44,None,88,4,5,None, 9,None]\n",
    "\n",
    "# use filter() to remove None values\n",
    "filtered_list=list(filter(lambda x: x is not None, my_list))\n",
    "\n",
    "# print the result\n",
    "print('Original list:',my_list)\n",
    "print('List without None values:', filtered_list)"
   ]
  },
  {
   "cell_type": "markdown",
   "id": "069cf6cc-361b-4b4f-99f3-8623fc656365",
   "metadata": {},
   "source": [
    "6. Create a Python program that uses 'filter()' to select words longer than a certain length from a list of strings."
   ]
  },
  {
   "cell_type": "code",
   "execution_count": 36,
   "id": "4892fd6e-babd-4c2e-b5d5-f82171aae622",
   "metadata": {},
   "outputs": [
    {
     "name": "stdout",
     "output_type": "stream",
     "text": [
      "Original list: ['nagsen', 'khandare', 'data', 'science', 'pro', 'max', 'analyst']\n",
      "Filtered list: ['nagsen', 'khandare', 'science', 'analyst']\n"
     ]
    }
   ],
   "source": [
    "# define a function to check length of string\n",
    "\n",
    "def check_length(string):\n",
    "    return len(string)>5\n",
    "\n",
    "# list of strings\n",
    "str_list=['nagsen','khandare','data','science','pro','max','analyst']\n",
    "\n",
    "# use filter() function to select strings with specific length\n",
    "specific_length=list(filter(check_length,str_list))\n",
    "\n",
    "# print result\n",
    "print('Original list:',str_list)\n",
    "print('Filtered list:',specific_length)"
   ]
  },
  {
   "cell_type": "markdown",
   "id": "2f89b3e0-3dbb-49d9-83a5-d1017b9d9a3b",
   "metadata": {},
   "source": [
    "7. Write a Python program that uses the 'filter()' function to select elements greater than a specified threshold from a list of values."
   ]
  },
  {
   "cell_type": "code",
   "execution_count": 43,
   "id": "85b9e2d9-ce71-4d22-a037-7b06d14d3c58",
   "metadata": {},
   "outputs": [
    {
     "name": "stdout",
     "output_type": "stream",
     "text": [
      "Original list: [33, 4, 55, 67, 8, 9, 0, 12, 55, 76, 87, 90]\n",
      "Values greater than 40 : [55, 67, 55, 76, 87, 90]\n"
     ]
    }
   ],
   "source": [
    "# function to check value is greater than threshold\n",
    "def greater_than_specified_threshold(values,threshold):\n",
    "    return values>threshold\n",
    "\n",
    "# list of values\n",
    "\n",
    "values=[33,4,55,67,8,9,0,12,55,76,87,90]\n",
    "\n",
    "# specify the threshold\n",
    "threshold=40\n",
    "\n",
    "# use filter function to select values greater than threshold\n",
    "new_values=list(filter(lambda x : greater_than_specified_threshold(x,threshold),values))\n",
    "\n",
    "# print result\n",
    "print('Original list:',values)\n",
    "print('Values greater than',threshold,':',new_values)"
   ]
  },
  {
   "cell_type": "markdown",
   "id": "a502b721-176f-46ae-bb6c-6fade6e75b69",
   "metadata": {},
   "source": [
    "# Recursion"
   ]
  },
  {
   "cell_type": "markdown",
   "id": "0df45f0f-52af-46ee-ab6d-9b5cedd2e550",
   "metadata": {},
   "source": [
    "1. Explain the concept of recursion in Python. How does it differ from iteration?"
   ]
  },
  {
   "cell_type": "markdown",
   "id": "856b35c2-56de-4fa3-a7b7-bc3d36e1b4d9",
   "metadata": {},
   "source": [
    "Recursion and iteration are both programming concepts used for repetitive tasks, but they differ in their approach to solving problems.\n",
    "\n",
    "Recursion:\n",
    "    \n",
    "Recursion is a programming technique where a function calls itself in order to solve a problem.\n",
    "In a recursive function, the problem is divided into smaller subproblems, and the function calls itself to solve each subproblem. Each recursive call works on a smaller instance of the original problem until a base case is reached, which is a condition that doesn't require further recursion.\n",
    "\n",
    "\n",
    "Key components of a recursive function:\n",
    "    \n",
    "1. Base Case: A condition that stops the recursion. It defines the simplest case where the function returns a result without making a recursive call.\n",
    "\n",
    "2. Recursive Case: The part of the function where it calls itself with a smaller instance of the problem.\n",
    "\n",
    "\n",
    "Example of a recursive functioin to calculate the factorial of a number:"
   ]
  },
  {
   "cell_type": "code",
   "execution_count": 4,
   "id": "60aff675-f64a-4d60-801d-2ed3e23e5974",
   "metadata": {},
   "outputs": [
    {
     "data": {
      "text/plain": [
       "3628800"
      ]
     },
     "execution_count": 4,
     "metadata": {},
     "output_type": "execute_result"
    }
   ],
   "source": [
    "def factorial(num):\n",
    "    # Base case\n",
    "    if num==0:\n",
    "        return 1\n",
    "    \n",
    "    # recursive case\n",
    "    else:\n",
    "        return num * factorial(num-1)\n",
    "    \n",
    "num=10\n",
    "factorial(num)"
   ]
  },
  {
   "cell_type": "markdown",
   "id": "f7f419db-9ffc-470a-80ea-ea2ba7fd6bf2",
   "metadata": {},
   "source": [
    "Iteration:\n",
    "    \n",
    "Iteration involves repeatedly executing a set of statements or a block of code until a specific condition is met. It uses loops (such as 'for' or 'while' loops) to repeatedly execute a block of code until a certain condition is false.\n",
    "\n",
    "Example of an iterative function to calculate the factorial of a number:"
   ]
  },
  {
   "cell_type": "code",
   "execution_count": 5,
   "id": "5016b1df-941e-401c-bdb0-d102cdb9845d",
   "metadata": {},
   "outputs": [
    {
     "data": {
      "text/plain": [
       "3628800"
      ]
     },
     "execution_count": 5,
     "metadata": {},
     "output_type": "execute_result"
    }
   ],
   "source": [
    "def factorial_iterative(n):\n",
    "    result=1\n",
    "    for i in range(1,n+1):\n",
    "        result*=i\n",
    "    return result\n",
    "\n",
    "n=10\n",
    "factorial_iterative(n)"
   ]
  },
  {
   "cell_type": "markdown",
   "id": "9f030f49-154e-462b-ad97-3ea82749d642",
   "metadata": {},
   "source": [
    "# Differences:\n",
    "\n",
    "1. Approach: Recursion breaks down a problem into smaller subproblems and solves them with recursive calls, while iteration uses loops to repeatedly execute a block of code.\n",
    "\n",
    "2. Memory Usage: Recursive functions may use more memory because each recursive call adds a new layer to the call stack. Iterative solutions typically use less memory as they reuse the same set of variables.\n",
    "\n",
    "3. Readability: Recursive solutions can be more elegant and concise for certain problems,\n",
    "   expressing the problem in a way that closely mirrors its natural structure. However, excessive recursion can lead to stack overflow errors.\n",
    "    \n",
    "4. Performance: In some cases, recursion may be less efficient than iteration due to the overhead of function calls and the use of the call stack.\n",
    "\n",
    "    Choosing between recursion and iteration often depends on the problem at hand and the specific requirements of the programming task. Some problems are naturally suited for recursion, while others may be more straightforward with iteration."
   ]
  },
  {
   "cell_type": "markdown",
   "id": "93aa7738-4eed-4f4c-b9cb-8aae441e30bc",
   "metadata": {},
   "source": [
    "2. Write a Python program to calculate the factorial of a number using recursion."
   ]
  },
  {
   "cell_type": "code",
   "execution_count": 6,
   "id": "2b6a726c-cbef-43c7-9aa1-15da2800181f",
   "metadata": {},
   "outputs": [
    {
     "data": {
      "text/plain": [
       "2432902008176640000"
      ]
     },
     "execution_count": 6,
     "metadata": {},
     "output_type": "execute_result"
    }
   ],
   "source": [
    "def factorial(n):\n",
    "    # Base case\n",
    "    if n==0:\n",
    "        return 1\n",
    "    else:\n",
    "    # Recursive Case\n",
    "        return n * factorial(n-1)\n",
    "    \n",
    "# driver code\n",
    "n=20\n",
    "factorial(n)"
   ]
  },
  {
   "cell_type": "markdown",
   "id": "c761b2e3-362a-456b-9e92-281a83a0dc08",
   "metadata": {},
   "source": [
    "3. Create a recursive Python function to find the nth Fibonacci number."
   ]
  },
  {
   "cell_type": "code",
   "execution_count": 11,
   "id": "252d1e23-a6ed-46f1-8914-be65d6eaf6ae",
   "metadata": {},
   "outputs": [
    {
     "data": {
      "text/plain": [
       "55"
      ]
     },
     "execution_count": 11,
     "metadata": {},
     "output_type": "execute_result"
    }
   ],
   "source": [
    "def fibonacci(n):\n",
    "    # Base case condition\n",
    "    if n<=1:\n",
    "        return n\n",
    "    # Recursive case \n",
    "    else:\n",
    "        return fibonacci(n-1) + fibonacci(n-2)\n",
    "\n",
    "# driver code\n",
    "n=10\n",
    "fibonacci(n)"
   ]
  },
  {
   "cell_type": "markdown",
   "id": "74dd0309-e029-47c2-81b5-a4739b2a760d",
   "metadata": {},
   "source": [
    "4. Write a recursive python function to calculate the sum of all elements in a list."
   ]
  },
  {
   "cell_type": "code",
   "execution_count": 16,
   "id": "8396fc97-cba9-45ac-8b78-a6750127fe59",
   "metadata": {},
   "outputs": [
    {
     "data": {
      "text/plain": [
       "55"
      ]
     },
     "execution_count": 16,
     "metadata": {},
     "output_type": "execute_result"
    }
   ],
   "source": [
    "def sum_of_elements(lst):\n",
    "    # Base case condition\n",
    "    if not lst:  # if list is empty return 0\n",
    "        return 0\n",
    "    # Recursive case\n",
    "    else:\n",
    "        return lst[0] + sum_of_elements(lst[1:])\n",
    "\n",
    "# driver code\n",
    "lst=[1,2,3,4,5,6,7,8,9,10]\n",
    "sum_of_elements(lst)"
   ]
  },
  {
   "cell_type": "markdown",
   "id": "abf4272d-cc0a-40d0-b754-c14d938dba65",
   "metadata": {},
   "source": [
    "5. How can you prevent a recursive function from running indefinitely, causing a stack overflow error?"
   ]
  },
  {
   "cell_type": "markdown",
   "id": "eecf429a-7d9f-415a-87a4-22f4fb00e1c8",
   "metadata": {},
   "source": [
    "Preventing a recursive function from running indefinitely and causing a stack overflow error is crucial for the stability and performance of your program. Here are several strategies to avoid such issues:\n",
    "    \n",
    "\n",
    "1. Base Case:\n",
    "    \n",
    "    Ensure that your recursive function has a base case that will stop the recursion. The base  case is a condition that, when met, prevents further recursive calls. Without a proper base case, the function will keep calling itself indefinitely."
   ]
  },
  {
   "cell_type": "code",
   "execution_count": 8,
   "id": "3a86c264-c225-4fec-b818-cd6bdab10a96",
   "metadata": {},
   "outputs": [],
   "source": [
    "def recursive_function(x):\n",
    "    # Base Case\n",
    "    if x<=0:\n",
    "        return \n",
    "    else:\n",
    "        # recursive call\n",
    "        recursive_function(x-1)"
   ]
  },
  {
   "cell_type": "markdown",
   "id": "c8d5f39e-75e3-4140-81eb-1b1ed8752551",
   "metadata": {},
   "source": [
    "2. Ensure Progress:\n",
    "    \n",
    "    Ensure that your recursive calls move towards the base case. In other words, make sure that the parameters passed in each recursive call get closer to the base case. If the parameters remain the same or move away from termination conditions, you might end up with infinite recursion. "
   ]
  },
  {
   "cell_type": "code",
   "execution_count": 2,
   "id": "b0d0456b-8cbd-46a7-9970-812785ea6899",
   "metadata": {},
   "outputs": [],
   "source": [
    "def countdown(x):\n",
    "    # base case\n",
    "    if x<=0:\n",
    "        return \n",
    "    else:\n",
    "        print(x)\n",
    "        # recursive call with a parameter closer to the base case\n",
    "        countdown(x-1)"
   ]
  },
  {
   "cell_type": "markdown",
   "id": "eb547241-0588-4694-9921-f5e2622fe4f8",
   "metadata": {},
   "source": [
    "3. Limit Recursion Depth:\n",
    "    \n",
    "    In some programming languages, you can set a limit on the recursion depth. This won't prevent infinite recursion but can help you catch it early and handle it more gracefully."
   ]
  },
  {
   "cell_type": "code",
   "execution_count": 9,
   "id": "41bc1505-cfa5-4237-91ec-38b39dd1f922",
   "metadata": {},
   "outputs": [],
   "source": [
    "import sys\n",
    "sys.setrecursionlimit(1000) # Set recursion limit"
   ]
  },
  {
   "cell_type": "markdown",
   "id": "b57fa755-eaee-4c1e-a584-37a34960a09a",
   "metadata": {},
   "source": [
    "However, it's generally better to rely on correct algorithm design and base cases rather than increasing recursion depth."
   ]
  },
  {
   "cell_type": "markdown",
   "id": "3803a0a0-bc38-4c63-90cc-f7e0b6c1c13e",
   "metadata": {},
   "source": [
    "4. Debugging Techniques:\n",
    "    \n",
    "    Use debugging techiniques to identify and fix issues in your recursive function. tools like print statements, logging, and debuggers can help you trace the flow of your recursive calls and identify where the problem lies.\n",
    "    \n",
    "5. Dynamic Programming or Iterative Solution:\n",
    "    \n",
    "    In some cases, a problem can be solved more efficiently using dynamic programming or iterative approaches instead of recursion. Consider whether these alternatives are more suitable for your problem.\n",
    "    \n",
    "6. Tail Recursion (if supported):\n",
    "    \n",
    "    Some languages support tail call optimization, which eliminates the need for additional stack frames for recursive calls. If tail call optimization is available, converting the recursive function to a tail-recursive form can help prevent stack overflow errors.\n",
    "    \n",
    "    \n",
    "    \n",
    "    Remember that recursive function should be designed with care, and it's essential to thoroughly test them, especially for edge cases and situations that might lead to infinite recursion."
   ]
  },
  {
   "cell_type": "markdown",
   "id": "cf266aea-6154-4517-a66d-6631f80b3cf1",
   "metadata": {},
   "source": [
    "6. Create a recursive Python function to find the greatest common divisor(GCD) of two numbers using the Euclidean algorithm."
   ]
  },
  {
   "cell_type": "code",
   "execution_count": 11,
   "id": "14bb226c-1ae9-4d36-8db8-ef4642296fa6",
   "metadata": {},
   "outputs": [
    {
     "name": "stdout",
     "output_type": "stream",
     "text": [
      "The GCD of 60 and 80 is: 20\n"
     ]
    }
   ],
   "source": [
    "def gcd(a,b):\n",
    "    # base case\n",
    "    if b==0:\n",
    "        return a\n",
    "    \n",
    "    else:\n",
    "        # recursive call with parameters swapped\n",
    "        return gcd(b,a%b)\n",
    "    \n",
    "# example usage\n",
    "num1=60\n",
    "num2=80\n",
    "r=gcd(num1, num2)\n",
    "print(f\"The GCD of {num1} and {num2} is: {r}\")"
   ]
  },
  {
   "cell_type": "markdown",
   "id": "3f1bf3e2-9a98-4ab1-9b95-10de82487bd8",
   "metadata": {},
   "source": [
    "7. Write a recursive Python function to reverse a string."
   ]
  },
  {
   "cell_type": "code",
   "execution_count": 1,
   "id": "8a3aef3f-5629-4d8f-81b5-06ff4482adc8",
   "metadata": {},
   "outputs": [
    {
     "name": "stdout",
     "output_type": "stream",
     "text": [
      "Origianl string: Data science pro\n",
      "Reversed string: orp ecneics ataD\n"
     ]
    }
   ],
   "source": [
    "def reverse_string(s):\n",
    "    # Base case : if the string is empty or has only one character, return it\n",
    "    \n",
    "    if len(s)<=1:\n",
    "        return s\n",
    "    # recursive call: swap the first and last characters and call the function again\n",
    "    return reverse_string(s[1:]) + s[0]\n",
    "\n",
    "# example usage:\n",
    "my_string='Data science pro'\n",
    "r=reverse_string(my_string)\n",
    "print('Origianl string:',my_string)\n",
    "print('Reversed string:',r)"
   ]
  },
  {
   "cell_type": "markdown",
   "id": "a085c864-cc72-4da8-bbcd-ea649ec5fd10",
   "metadata": {},
   "source": [
    "8. Create a recursive Python function to calculate the power of a number (x^n)."
   ]
  },
  {
   "cell_type": "code",
   "execution_count": 9,
   "id": "7fafdb62-7f4d-4945-873e-c0281a4673ef",
   "metadata": {},
   "outputs": [
    {
     "name": "stdin",
     "output_type": "stream",
     "text": [
      "enter number to find power: 10\n",
      "enter power of number: 10\n"
     ]
    },
    {
     "name": "stdout",
     "output_type": "stream",
     "text": [
      "10000000000.0\n"
     ]
    }
   ],
   "source": [
    "def numpower(x,n):\n",
    "    # Base case\n",
    "    if n==0:\n",
    "        return 1\n",
    "    # recursive case\n",
    "    else:\n",
    "        return x * numpower(x,n-1)\n",
    "    \n",
    "# driver code\n",
    "x=float(input('enter number to find power:'))\n",
    "n=int(input('enter power of number:'))\n",
    "r=numpower(x,n)\n",
    "print(r)"
   ]
  },
  {
   "cell_type": "markdown",
   "id": "382c18bc-ba60-4f7f-bb87-68106538aec6",
   "metadata": {},
   "source": [
    "9. Write a recursive Python function to find all permutations of a given string."
   ]
  },
  {
   "cell_type": "code",
   "execution_count": 13,
   "id": "63182b49-76ba-4fc7-a223-d686aeeda758",
   "metadata": {},
   "outputs": [
    {
     "name": "stdout",
     "output_type": "stream",
     "text": [
      "Permutations of abcd : ['abcd', 'abdc', 'acbd', 'acdb', 'adbc', 'adcb', 'bacd', 'badc', 'bcad', 'bcda', 'bdac', 'bdca', 'cabd', 'cadb', 'cbad', 'cbda', 'cdab', 'cdba', 'dabc', 'dacb', 'dbac', 'dbca', 'dcab', 'dcba']\n"
     ]
    }
   ],
   "source": [
    "def find_permutations(s):\n",
    "    if len(s)==1:\n",
    "        return [s]\n",
    "    # initialize an empty list to store permutations\n",
    "    permutations=[]\n",
    "    \n",
    "    # iterate through each character in the string\n",
    "    for i, char in enumerate(s):\n",
    "        # create a sub-string by excluding the current character\n",
    "        remaining_chars=s[:i] + s[i+1:]\n",
    "        \n",
    "        # Recursively find permutations of the sub-string\n",
    "        sub_permutations=find_permutations(remaining_chars)\n",
    "        \n",
    "        # add the current character to each permutation of the sub-string\n",
    "        for perm in sub_permutations:\n",
    "            permutations.append(char+perm)\n",
    "            \n",
    "    return permutations\n",
    "\n",
    "# example usage:\n",
    "string='abcd'\n",
    "result=find_permutations(string)\n",
    "print('Permutations of',string,':',result)"
   ]
  },
  {
   "cell_type": "markdown",
   "id": "d94c5da3-66e4-4f01-975e-2386493eedb6",
   "metadata": {},
   "source": [
    "10. Write a recusive Python function to check if a string is a palindrome."
   ]
  },
  {
   "cell_type": "code",
   "execution_count": 14,
   "id": "40f00116-9d85-4d09-b6ca-f5a60a5a6be2",
   "metadata": {},
   "outputs": [
    {
     "name": "stdout",
     "output_type": "stream",
     "text": [
      "The string 'madam' is a palindrome.\n"
     ]
    }
   ],
   "source": [
    "def is_palindrome(s):\n",
    "    # Base case: if the string has zero or one character , it's a palindrome\n",
    "    if len(s)<=1:\n",
    "        return True\n",
    "    \n",
    "    # check if the first and last characters match\n",
    "    if s[0]!=s[-1]:\n",
    "        return False\n",
    "    # Recursively check the substring excluding the first and last characters\n",
    "    return is_palindrome(s[1:-1])\n",
    "\n",
    "# example usage:\n",
    "string='madam'\n",
    "result=is_palindrome(string)\n",
    "if result:\n",
    "    print(f\"The string '{string}' is a palindrome.\")\n",
    "else:\n",
    "    print(f\"The string '{string}' is not a palindrome.\")"
   ]
  },
  {
   "cell_type": "markdown",
   "id": "c459e1a1-fdb2-4af2-9372-133340bcc119",
   "metadata": {},
   "source": [
    "11. Create a recursive Python function to generate all possible combinations of a list of elements."
   ]
  },
  {
   "cell_type": "code",
   "execution_count": 18,
   "id": "b818d45c-7b97-4f50-b723-e95b86cc1907",
   "metadata": {},
   "outputs": [
    {
     "name": "stdout",
     "output_type": "stream",
     "text": [
      "All possible combinations: [[1, 2, 3, 4], [1, 2, 4, 3], [1, 2, [4]], [1, 3, 2, 4], [1, 3, 4, 2], [1, 3, [4]], [1, 4, 2, 3], [1, 4, 3, 2], [1, 4, [3]], [1, [3, 4], [4, 3], [[4]]], [2, 1, 3, 4], [2, 1, 4, 3], [2, 1, [4]], [2, 3, 1, 4], [2, 3, 4, 1], [2, 3, [4]], [2, 4, 1, 3], [2, 4, 3, 1], [2, 4, [3]], [2, [3, 4], [4, 3], [[4]]], [3, 1, 2, 4], [3, 1, 4, 2], [3, 1, [4]], [3, 2, 1, 4], [3, 2, 4, 1], [3, 2, [4]], [3, 4, 1, 2], [3, 4, 2, 1], [3, 4, [2]], [3, [2, 4], [4, 2], [[4]]], [4, 1, 2, 3], [4, 1, 3, 2], [4, 1, [3]], [4, 2, 1, 3], [4, 2, 3, 1], [4, 2, [3]], [4, 3, 1, 2], [4, 3, 2, 1], [4, 3, [2]], [4, [2, 3], [3, 2], [[3]]], [[2, 3, 4], [2, 4, 3], [2, [4]], [3, 2, 4], [3, 4, 2], [3, [4]], [4, 2, 3], [4, 3, 2], [4, [3]], [[3, 4], [4, 3], [[4]]]]]\n"
     ]
    }
   ],
   "source": [
    "def generate_combination(elements):\n",
    "    if len(elements)==1:\n",
    "        return [elements]\n",
    "    \n",
    "    all_combinations = []\n",
    "    \n",
    "    for i, elem in enumerate(elements):\n",
    "        remaining_elements=elements[:i] + elements[i+1:]\n",
    "        \n",
    "        sub_combinations=generate_combination(remaining_elements)\n",
    "        \n",
    "        for comb in sub_combinations:\n",
    "            all_combinations.append([elem] + comb)\n",
    "            \n",
    "    all_combinations.append(generate_combination(elements[1:]))\n",
    "    \n",
    "    return all_combinations\n",
    "\n",
    "# example usage:\n",
    "my_elements=[1,2,3,4]\n",
    "result=generate_combination(my_elements)\n",
    "print(\"All possible combinations:\",result)"
   ]
  },
  {
   "cell_type": "markdown",
   "id": "b3af929b-0cd5-4384-8920-ef1f38828422",
   "metadata": {},
   "source": [
    "# Basics of Functions"
   ]
  },
  {
   "cell_type": "markdown",
   "id": "dd99f8c7-a34b-43f9-8273-7a3541fae95b",
   "metadata": {},
   "source": [
    "1. What is a function in Python, and why is it used?"
   ]
  },
  {
   "cell_type": "markdown",
   "id": "0d528c9e-f109-42c3-ad52-9782e991c6e8",
   "metadata": {},
   "source": [
    "In Python, a function is a block of reusable code that performs a specific task or a set of tasks. It's a way to group code that does a particular job and give it a name, allowing you to call that code by its name whenever you need it. Functions help in organizing code, making it more readable, maintainable, and reusable.\n",
    "\n",
    "Functions in Python have the following characteristics:\n",
    "\n",
    "1. Name: Functions have a name that uniquely identifies them. You can call a function by using its name.\n",
    "\n",
    "2. Parameters: Functions can take parameters (also called arguments), which are values passed to the function to work with. These parameters can be used within the function.\n",
    "\n",
    "3. Return Value: Functions can return a value or multiple values as a result of their execution using the 'return' statement.\n",
    "\n",
    "\n",
    "    Functions are used for several reasons:\n",
    "\n",
    "* Modularity: Functions allow you to break down complex tasks into smaller, manageable parts. This modularity helps in organizing code and makes it easier to understand.\n",
    "\n",
    "* Reusability: Once a function is defined, it can be called multiple times from different parts of the code, reducing redundancy and promoting code reuse.\n",
    "\n",
    "* Abstraction: Functions allow you to abstract away details and focus on what a piece of code does rather than how it does it. This simplifies the usage of that code.\n",
    "\n",
    "* Readability: Using functions with descriptive names makes the code more readable and understandable.\n",
    "\n",
    "* Maintenance: Functions make code maintenance easier. If a change needs to be made,you can update the function, and that change will be reflected wherever the function is called.\n",
    "\n",
    "\n",
    "For example:"
   ]
  },
  {
   "cell_type": "code",
   "execution_count": 20,
   "id": "1d2a8b15-4e04-4e21-b162-75e2b5879f36",
   "metadata": {},
   "outputs": [
    {
     "name": "stdout",
     "output_type": "stream",
     "text": [
      "Hello, Alice!\n"
     ]
    }
   ],
   "source": [
    "# function defination\n",
    "def greet(name):\n",
    "    return f\"Hello, {name}!\"\n",
    "\n",
    "# calling the function\n",
    "message=greet(\"Alice\")\n",
    "print(message)"
   ]
  },
  {
   "cell_type": "markdown",
   "id": "dc16f6f1-ddd2-42a3-9857-b6286fc2ae62",
   "metadata": {},
   "source": [
    "2. How do you define a function in python? Provide an example."
   ]
  },
  {
   "cell_type": "code",
   "execution_count": 1,
   "id": "5bb35945-06d6-43b0-ac8a-1dcfc05fc5b6",
   "metadata": {},
   "outputs": [
    {
     "data": {
      "text/plain": [
       "30"
      ]
     },
     "execution_count": 1,
     "metadata": {},
     "output_type": "execute_result"
    }
   ],
   "source": [
    "def add_numbers(a,b):\n",
    "    return a+b\n",
    "\n",
    "a=10\n",
    "b=20\n",
    "add_numbers(a,b)"
   ]
  },
  {
   "cell_type": "markdown",
   "id": "934c84b0-5322-41c8-bc31-96ac0a3d476a",
   "metadata": {},
   "source": [
    "3. Explain the difference between a function definition and a function call."
   ]
  },
  {
   "cell_type": "markdown",
   "id": "2e61f568-324a-4908-9fdc-bf3292766fb1",
   "metadata": {},
   "source": [
    "1. Function definition:\n",
    "    \n",
    "    * This is where you create the blueprint or the structure of a function. When you define a function, you specify what the function does and how it behaves.\n",
    "    \n",
    "    * It involves using the 'def' keyword in python followed by the function name, parameters (if any), and the body of the function that contains the code to be executed.\n",
    "    \n",
    "    * Example of a function definition:"
   ]
  },
  {
   "cell_type": "code",
   "execution_count": 3,
   "id": "06615b0f-bd4b-4dad-b269-dfb2eddf8498",
   "metadata": {},
   "outputs": [],
   "source": [
    "def greet(name):\n",
    "    print(f\"Hello, {name}!\")"
   ]
  },
  {
   "cell_type": "markdown",
   "id": "ad06429f-655e-4aea-8deb-d8b7e2e575a4",
   "metadata": {},
   "source": [
    "* In this example, 'greet' is the function name, it takes one parameter 'name', and when called, it prints a greeting message using the provided 'name'"
   ]
  },
  {
   "cell_type": "markdown",
   "id": "72490d36-ba89-4b86-ab58-0dd067f0a1ed",
   "metadata": {},
   "source": [
    "2. Function Call: \n",
    "    \n",
    "    * This is when you actually invoke or execute the defined function with specific values or arguments.\n",
    "    \n",
    "    * When you call a function, you're instructing the  program to run the code inside that function's body.\n",
    "    \n",
    "    * example of a function call using the previously defined 'greet' function:"
   ]
  },
  {
   "cell_type": "code",
   "execution_count": 4,
   "id": "1efc7446-9e7d-4007-9c95-a958f00dc45d",
   "metadata": {},
   "outputs": [
    {
     "name": "stdout",
     "output_type": "stream",
     "text": [
      "Hello, Nagsen!\n"
     ]
    }
   ],
   "source": [
    "greet('Nagsen')"
   ]
  },
  {
   "cell_type": "markdown",
   "id": "97fd5632-21ed-498a-9f3e-d58153b652de",
   "metadata": {},
   "source": [
    "In summary, the function definition sets up what the function will do and how it will do it, whereas the function call executes the defined function with specific values or arguments. Without calling a function, its code won't be executed; it's the action that triggers the function to perform its task."
   ]
  },
  {
   "cell_type": "markdown",
   "id": "757b2d1e-ece8-4fb4-b3bf-485e4d5104da",
   "metadata": {},
   "source": [
    "4. Write a Python program that defines a function to calculate the sum of two numbers and then calls the function."
   ]
  },
  {
   "cell_type": "code",
   "execution_count": 5,
   "id": "114fadf3-6924-4eff-9e78-5ea6c06879c3",
   "metadata": {},
   "outputs": [
    {
     "data": {
      "text/plain": [
       "100"
      ]
     },
     "execution_count": 5,
     "metadata": {},
     "output_type": "execute_result"
    }
   ],
   "source": [
    "def sumnumbers(a,b):\n",
    "    return a+b\n",
    "\n",
    "a=50\n",
    "b=50\n",
    "sumnumbers(a,b)"
   ]
  },
  {
   "cell_type": "markdown",
   "id": "f1b16537-c4e0-4419-aa65-84c056090a15",
   "metadata": {},
   "source": [
    "5. What is a function signature, and what information does it typically include?"
   ]
  },
  {
   "cell_type": "markdown",
   "id": "d4050150-054d-40fc-86b6-9ee60dcf69d4",
   "metadata": {},
   "source": [
    "A function signature refers to the essential details that uniquely identify a function. It typically includes the following information:\n",
    "    \n",
    "1. Function Name:\n",
    "    \n",
    "    * The name by which the function is referenced. It's the identifier used to call the function elsewhere in the code.\n",
    "    \n",
    "2. Return Type:\n",
    "    \n",
    "    * The data type of the value that the function returns, if any. In languages like Python, this can be any data type or 'void' if the function doesn't return anything explicitly.\n",
    "    \n",
    "3. Parameter Types and Order (Parameter list):\n",
    "    \n",
    "    * The types and order of the parameters that the function accepts (if any). It specifies what kind of data should be passed into the function when it's called.\n",
    "    \n",
    "For instance, consider the function signature for a simple addition function in Python:"
   ]
  },
  {
   "cell_type": "code",
   "execution_count": 9,
   "id": "71ff762b-5528-4ff4-b69d-0b5b8af395b7",
   "metadata": {},
   "outputs": [],
   "source": [
    "def add_numbers(a: int, b: int) -> int:\n",
    "    return a+b"
   ]
  },
  {
   "cell_type": "markdown",
   "id": "76fa6af3-bbcf-4b4f-9b60-9e02364511cb",
   "metadata": {},
   "source": [
    "In this function signature:\n",
    "    \n",
    "* Function Name: 'add_numbers'\n",
    "* Return Type: 'int' (it returns an integer)\n",
    "* Parameter Types and Order: Two parameters, both of type 'int' ('a' and 'b')\n",
    "\n",
    "\n",
    "The function singnature is crucial as it provides a clear understanding of how the function should be used: what inputs it expects, what it does with those inputs, and what it outputs (if anything).\n",
    "\n",
    "Function signatures are instrumental in documentation, enabling other programmers (or your future self) to understand how to use the function without needing to inspect the entire function body. They serve as a concise summary of a function's interface."
   ]
  },
  {
   "cell_type": "markdown",
   "id": "6ec63058-79f8-41fe-a6ca-a029be9552ec",
   "metadata": {},
   "source": [
    "6. Create a Python function that takes two arguments and returns their product."
   ]
  },
  {
   "cell_type": "code",
   "execution_count": 11,
   "id": "f70b93bc-5b1c-42d1-ba3a-66aee5941b0e",
   "metadata": {},
   "outputs": [
    {
     "data": {
      "text/plain": [
       "30"
      ]
     },
     "execution_count": 11,
     "metadata": {},
     "output_type": "execute_result"
    }
   ],
   "source": [
    "def numproduct(a,b):\n",
    "    return a*b\n",
    "\n",
    "a=5\n",
    "b=6\n",
    "numproduct(a,b)"
   ]
  },
  {
   "cell_type": "markdown",
   "id": "5f2b8741-387d-4c14-8297-ab8823bafc4a",
   "metadata": {},
   "source": [
    "# Function Parameters and Arguments:"
   ]
  },
  {
   "cell_type": "markdown",
   "id": "603f5936-06a9-429f-badb-af6e61177624",
   "metadata": {},
   "source": [
    "1. Explain the concepts of formal parameters and actual arguments in Python functions."
   ]
  },
  {
   "cell_type": "markdown",
   "id": "394a67a8-f1fe-4c03-9a8e-0b3f70c0eba7",
   "metadata": {},
   "source": [
    "1. Formal Parameters:\n",
    "    \n",
    "    * Formal parameters are placeholders in the function definition that represent the data the function expects to receive when it's called.\n",
    "    \n",
    "    * They are specified within the parantheses in the function definition.\n",
    "    \n",
    "    * These parameters act as variables inside the function and are used to perform operations or computations:\n",
    "        \n",
    "    * Example:"
   ]
  },
  {
   "cell_type": "code",
   "execution_count": 12,
   "id": "c82ebf05-ca03-4e02-865e-fbe69bbd5c90",
   "metadata": {},
   "outputs": [],
   "source": [
    "def greet(name):\n",
    "    print(f\"Hello, {name}!\")"
   ]
  },
  {
   "cell_type": "markdown",
   "id": "8b201edd-67ae-4e3e-98e8-ce1229734539",
   "metadata": {},
   "source": [
    "In this case, 'name' is the formal parameter."
   ]
  },
  {
   "cell_type": "markdown",
   "id": "26f193b2-ef45-4f04-ace2-b67fb8ddc7c6",
   "metadata": {},
   "source": [
    "2. Actual Arguments (or Arguments):\n",
    "    \n",
    "    * Actual arguments are the real values or expressions passed to a function when it's called.\n",
    "    They are the concrete data that the function will work with.\n",
    "    \n",
    "    * These values are supplied inside the parentheses when the function is invoked.\n",
    "    \n",
    "    * Actual arguments can be constants, variables, expressions, or even the return value of other functions.\n",
    "\n",
    "    * Example:"
   ]
  },
  {
   "cell_type": "code",
   "execution_count": 13,
   "id": "c3b0a4b5-7ffc-45e3-abe8-626bc2004477",
   "metadata": {},
   "outputs": [
    {
     "name": "stdout",
     "output_type": "stream",
     "text": [
      "Hello, Nagsen!\n"
     ]
    }
   ],
   "source": [
    "greet('Nagsen')"
   ]
  },
  {
   "cell_type": "markdown",
   "id": "771d3e59-1f04-4ebe-ba69-2e3339875f2b",
   "metadata": {},
   "source": [
    "Here, 'Nagsen' is the actual argument passed to the 'greet' function."
   ]
  },
  {
   "cell_type": "markdown",
   "id": "b93c6ada-1701-4ae1-a367-ab62ea833fc7",
   "metadata": {},
   "source": [
    "In summary, formal parameters are the variables declared in the function definition, representing the data the function expects to receive. Actual arguments are the real values or expressions passed to the function when it's called, which correspond to the formal parameters. When the function is called, the actual arguments are assigned to the formal parameters, allowing the function to operate on the provided data."
   ]
  },
  {
   "cell_type": "markdown",
   "id": "157ec35a-1cd0-4238-9a6b-84ac9d03c085",
   "metadata": {},
   "source": [
    "2. Write a Python program that defines a function with default argument values."
   ]
  },
  {
   "cell_type": "code",
   "execution_count": 25,
   "id": "e25d6883-5505-4c37-be6c-204b52c659c3",
   "metadata": {},
   "outputs": [
    {
     "data": {
      "text/plain": [
       "18.0"
      ]
     },
     "execution_count": 25,
     "metadata": {},
     "output_type": "execute_result"
    }
   ],
   "source": [
    "# function with default argument values.\n",
    "def division(a=90,b=5):\n",
    "    return a/b\n",
    "    \n",
    "division()"
   ]
  },
  {
   "cell_type": "markdown",
   "id": "cead9ed5-9743-4094-a7fd-3f35c7cd7af4",
   "metadata": {},
   "source": [
    "3. How do you use keyword arguments in Python function calls? Provide an example."
   ]
  },
  {
   "cell_type": "code",
   "execution_count": 26,
   "id": "9913c1fd-a129-4624-b1b1-d4d6b7be3a23",
   "metadata": {},
   "outputs": [
    {
     "data": {
      "text/plain": [
       "'Hello,Alice! You are 30 years old. Have a great day!'"
      ]
     },
     "execution_count": 26,
     "metadata": {},
     "output_type": "execute_result"
    }
   ],
   "source": [
    "def greet(name, age, message):\n",
    "    return f\"Hello,{name}! You are {age} years old. {message}\"\n",
    "\n",
    "# using keyword arguments explicitly\n",
    "greet(name='Alice', age=30,message='Have a great day!')"
   ]
  },
  {
   "cell_type": "markdown",
   "id": "f66710f5-e67a-4cc9-80d2-dad7e8c47fe9",
   "metadata": {},
   "source": [
    "4. Create a Python function that accepts a variable number of arguments and calculates their sum."
   ]
  },
  {
   "cell_type": "code",
   "execution_count": 27,
   "id": "10410246-34ef-43a6-a192-0461c4722cb6",
   "metadata": {},
   "outputs": [
    {
     "data": {
      "text/plain": [
       "13"
      ]
     },
     "execution_count": 27,
     "metadata": {},
     "output_type": "execute_result"
    }
   ],
   "source": [
    "def addition(a,b,c):\n",
    "    return a+b+c\n",
    "\n",
    "a=1\n",
    "b=5\n",
    "c=7\n",
    "addition(a,b,c)"
   ]
  },
  {
   "cell_type": "markdown",
   "id": "ccbb94cb-e868-4030-a4d9-e6f223852878",
   "metadata": {},
   "source": [
    "5. What is the purpose of the *args and **kwargs syntax in function jparameter lists?"
   ]
  },
  {
   "cell_type": "markdown",
   "id": "848b8e96-a90d-49e4-8d8e-60019ec9fa49",
   "metadata": {},
   "source": [
    "The *args and **kwargs syntax in Python function parameter lists are used to handle variale numbers of arguments passed to a function.\n",
    "\n",
    "* '*args' (Arbitrary Arguments): This parameter allows a function to accept any number of positional arguments. When '*args' is used in a function definition, it collects any number of positional arguments passed to that function into a tuple. The name 'args' is a convention; you could name it differently, but '*args' is widely recognized as a standard.\n",
    "\n",
    "Example:"
   ]
  },
  {
   "cell_type": "code",
   "execution_count": 1,
   "id": "5a7ae1cd-271f-4d1f-9f67-8660ce7feaf3",
   "metadata": {},
   "outputs": [
    {
     "name": "stdout",
     "output_type": "stream",
     "text": [
      "1\n",
      "2\n",
      "3\n",
      "4\n",
      "5\n",
      "6\n",
      "data\n",
      "science\n"
     ]
    }
   ],
   "source": [
    "def my_function(*args):\n",
    "    for arg in args:\n",
    "        print(arg)\n",
    "        \n",
    "my_function(1,2,3,4,5,6,'data','science')"
   ]
  },
  {
   "cell_type": "markdown",
   "id": "a6484324-29f0-48bc-b61d-38b3c09d40a2",
   "metadata": {},
   "source": [
    "This function can accept any number of arguments, and it prints each argument."
   ]
  },
  {
   "cell_type": "markdown",
   "id": "40cd4792-1cb1-4a23-872b-56e1b165a29d",
   "metadata": {},
   "source": [
    "* '**kwargs' (Arbitrary Keyword Arguments): Similarly, this parameter allows a function to accept any number of keyword arguments (arguments specified with keywords). When '**kwargs' is used in a function definition, it collects keyword arguments into a dictionary where the keys are the argument names and the values are the corresponding values passed to the function.\n",
    "\n",
    "Example:"
   ]
  },
  {
   "cell_type": "code",
   "execution_count": 2,
   "id": "044a905e-8ceb-4278-a5eb-f0f8e6f52df3",
   "metadata": {},
   "outputs": [
    {
     "name": "stdout",
     "output_type": "stream",
     "text": [
      "name: Baburao\n",
      "age: 50\n",
      "city: Mumbai\n"
     ]
    }
   ],
   "source": [
    "def my_function(**kwargs):\n",
    "    for key, value in kwargs.items():\n",
    "        print(f\"{key}: {value}\")\n",
    "        \n",
    "my_function(name='Baburao',age=50,city='Mumbai')"
   ]
  },
  {
   "cell_type": "markdown",
   "id": "c5bf3727-25c4-49a0-bc01-417a43408f98",
   "metadata": {},
   "source": [
    "This function can accept any number of keyword arguments and prints each key-value pair.\n",
    "\n",
    "\n",
    "These constructs are helpful when you want to create flexible functions that can handle varying numbers of arguments or when you're creating wrapper functions that need to pass arguments through to other functions without explicitly defining them in he function signature. "
   ]
  },
  {
   "cell_type": "markdown",
   "id": "4b80e670-f183-4569-8305-9692b97881a0",
   "metadata": {},
   "source": [
    "# Return Values and Scoping:"
   ]
  },
  {
   "cell_type": "markdown",
   "id": "e71f798c-7838-464e-a31d-45ab089ef86b",
   "metadata": {},
   "source": [
    "1. Describe the role of the 'return' statement in Python functions and provide examples."
   ]
  },
  {
   "cell_type": "markdown",
   "id": "090bf762-95d1-456e-855a-095c9e701f63",
   "metadata": {},
   "source": [
    "The 'return' statement in Python functions is used to exit a function and return a value back to the caller. It allows a function to compute a result and pass it back to the code that called the function. Once a 'return' statement is encountered in a function, the function, execution stops, and the value specified in the 'return' statement (if any) is passed back to the caller.\n",
    "\n",
    "Here are a few examples demonstrating the use of 'return' in Python functions:\n",
    "\n",
    "Example 1: Returning a value from a function"
   ]
  },
  {
   "cell_type": "code",
   "execution_count": 3,
   "id": "4e48ef91-9009-48ad-8b2c-e3d78233964f",
   "metadata": {},
   "outputs": [
    {
     "name": "stdout",
     "output_type": "stream",
     "text": [
      "11\n"
     ]
    }
   ],
   "source": [
    "def add(a,b):\n",
    "    result=a+b\n",
    "    return result\n",
    "\n",
    "sum_result=add(6,5)\n",
    "print(sum_result) "
   ]
  },
  {
   "cell_type": "markdown",
   "id": "f78385ec-22ac-4be7-8d9d-abd6973793dd",
   "metadata": {},
   "source": [
    "In this exmple, the 'add' function takes two arguments, computes their sum, stores it in the 'result' variable, and then returns the 'result' using the 'return' statement.\n",
    "\n",
    "Example 2: Returning multiple values from a function"
   ]
  },
  {
   "cell_type": "code",
   "execution_count": 7,
   "id": "5cbf5517-fd2e-4a18-b223-e4eb13266f26",
   "metadata": {},
   "outputs": [
    {
     "name": "stdout",
     "output_type": "stream",
     "text": [
      "sum: 55\n",
      "subtraction: 45\n"
     ]
    }
   ],
   "source": [
    "def calculate(a,b):\n",
    "    addition=a+b\n",
    "    difference=a-b\n",
    "    return addition, difference\n",
    "\n",
    "sum_num, subtraction=calculate(50,5)\n",
    "print('sum:',sum_num)\n",
    "print('subtraction:',subtraction)"
   ]
  },
  {
   "cell_type": "markdown",
   "id": "1fd0b6e1-62c7-4a17-afab-6392b2b37d81",
   "metadata": {},
   "source": [
    "Here, the 'calculate' function computes both the sum and difference of two numbers and returns them as a tuple. Using multiple return values can be achieved in Python by separating the values with commas.\n",
    "\n",
    "Example 3: Returning early from a function"
   ]
  },
  {
   "cell_type": "code",
   "execution_count": 8,
   "id": "ad1d5e44-5acf-4f32-99f3-b85e28f46e8b",
   "metadata": {},
   "outputs": [
    {
     "name": "stdout",
     "output_type": "stream",
     "text": [
      "Value is positive\n",
      "Value is zero\n",
      "Value is negative\n"
     ]
    }
   ],
   "source": [
    "def check_value(x):\n",
    "    if x<0:\n",
    "        return \"Value is negative\"\n",
    "    elif x==0:\n",
    "        return 'Value is zero'\n",
    "    else:\n",
    "        return 'Value is positive'\n",
    "    \n",
    "print(check_value(5))\n",
    "print(check_value(0))\n",
    "print(check_value(-5))"
   ]
  },
  {
   "cell_type": "markdown",
   "id": "9de02a92-3655-41b8-94ff-27c9c018e5a3",
   "metadata": {},
   "source": [
    "In this case, the 'check_value' function determines whether the provided number is negative, zero, or positive. It uses the 'return' statement to immediately exit the function and provide the corresponding message based on the value of 'x'.\n",
    "\n",
    "The 'return' statement is crucial for functions as it allows them to provide results or information back to the code that called them, making functions reusable and capable of performing specific tasks and producing output."
   ]
  },
  {
   "cell_type": "markdown",
   "id": "18b9c026-b199-42ad-9fcf-806f37207dc2",
   "metadata": {},
   "source": [
    "2. Explain the concept of variable scope in Python, including local and global variables."
   ]
  },
  {
   "cell_type": "markdown",
   "id": "529476b0-584e-45bd-a651-3fe7f2287679",
   "metadata": {},
   "source": [
    "Variable scope in Python refers to the visibility and accessibility of variables within different parts of a program. It determines where in the code a particular variable can be accessed or modified.\n",
    "\n",
    "\n",
    "Local Variables:\n",
    "    \n",
    "* Local variables are those defined within a specific function or block. They are only accessible within that function or block.\n",
    "\n",
    "* When a function is executed, Python creates a local scope for that function, and any variables defined within it are considered local variables.\n",
    "\n",
    "* Once the function finishes executing, the local variables are destroyed, and they cannot be accessed from outside the function.\n",
    "\n",
    "Here's an example:"
   ]
  },
  {
   "cell_type": "code",
   "execution_count": 6,
   "id": "68089a18-7807-465f-a501-1a22d6eb19df",
   "metadata": {},
   "outputs": [
    {
     "name": "stdout",
     "output_type": "stream",
     "text": [
      "50\n"
     ]
    }
   ],
   "source": [
    "def my_function():\n",
    "    x=50  # this is a local variable\n",
    "    print(x)\n",
    "my_function()\n",
    "# Trying to access x outside the function will raise an error"
   ]
  },
  {
   "cell_type": "markdown",
   "id": "2d2af0fc-6e34-4228-b3f1-d769fd73bb17",
   "metadata": {},
   "source": [
    "Global Variable:\n",
    "    \n",
    "* Global Variables are declared outside of any function or block and can be accessed throughout the entire program.\n",
    "\n",
    "*They can be accessed and modified from within functions unless there's a declaration of the sam variable name as a local variable within that function.\n",
    "\n",
    "Example:"
   ]
  },
  {
   "cell_type": "code",
   "execution_count": 17,
   "id": "6a0d13ed-42ba-4694-9bb7-f9bd043f49dd",
   "metadata": {},
   "outputs": [
    {
     "name": "stdout",
     "output_type": "stream",
     "text": [
      "50\n"
     ]
    }
   ],
   "source": [
    "global_var=50 # this is a global variable\n",
    "\n",
    "def my_function():\n",
    "    print(global_var)  # Accessing the global variable\n",
    "my_function()"
   ]
  },
  {
   "cell_type": "markdown",
   "id": "38650280-e545-4493-9ebb-b8c2c3ee3bb9",
   "metadata": {},
   "source": [
    "Using Global Keyword:\n",
    "    \n",
    "* To modify a global variable from within a function, you need to use the 'global' keyword within the function to explicityly declare that you're working with the global variable and not creating a new local one.\n",
    "\n",
    "Example:"
   ]
  },
  {
   "cell_type": "code",
   "execution_count": 43,
   "id": "7ddc28eb-e63b-4f97-b0db-fc464ec3b4a9",
   "metadata": {},
   "outputs": [
    {
     "name": "stdout",
     "output_type": "stream",
     "text": [
      "30\n"
     ]
    }
   ],
   "source": [
    "global_var=50  # this is global variable\n",
    "\n",
    "def my_function():\n",
    "    global global_var  # declaring to use the global variable\n",
    "    global_var=30  # Modifying the global variable\n",
    "    print(global_var)  \n",
    "my_function() # the global variable has been modified"
   ]
  },
  {
   "cell_type": "markdown",
   "id": "e22e0d24-3ad0-4de1-b929-7d57bbb8c235",
   "metadata": {},
   "source": [
    "3. Write a Python program that demonstrates the use of global variables within functions."
   ]
  },
  {
   "cell_type": "code",
   "execution_count": 20,
   "id": "e6e7f5c6-8b7a-476a-ad81-df4beb994edd",
   "metadata": {},
   "outputs": [
    {
     "name": "stdout",
     "output_type": "stream",
     "text": [
      "Before function call: 30\n",
      "Inside the function: 70\n",
      "Inside another function: 70\n",
      "After function calls: 70\n"
     ]
    }
   ],
   "source": [
    "# global variable\n",
    "global_var=30 \n",
    "\n",
    "# Function to modify the global variable\n",
    "def modify_global():\n",
    "    global global_var # declare to use global variable\n",
    "    global_var+=40\n",
    "    print('Inside the function:',global_var) # output: updated global_var value\n",
    "    \n",
    "# function to access the global variable\n",
    "def access_global():\n",
    "    print('Inside another function:',global_var) # output: current global_var value\n",
    "    \n",
    "# Display the initial global variable value\n",
    "print('Before function call:',global_var)\n",
    "\n",
    "# call the function\n",
    "modify_global()\n",
    "access_global()\n",
    "\n",
    "# display the modified global variable value\n",
    "print('After function calls:',global_var)"
   ]
  },
  {
   "cell_type": "markdown",
   "id": "0be310fa-bbe5-48d5-93e1-04db2d691b0d",
   "metadata": {},
   "source": [
    "4. Create a Python function that calculates the factorial of a number and returns it."
   ]
  },
  {
   "cell_type": "code",
   "execution_count": 21,
   "id": "84b21808-9f4e-42ce-8e67-1028cd05ad58",
   "metadata": {},
   "outputs": [
    {
     "name": "stdout",
     "output_type": "stream",
     "text": [
      "The factorial of 8 is: 40320\n"
     ]
    }
   ],
   "source": [
    "def factorial(n):\n",
    "    # Base case\n",
    "    if n<=1:\n",
    "        return 1\n",
    "    else:\n",
    "        return n * factorial(n-1)\n",
    "    \n",
    "num=8\n",
    "result=factorial(num)\n",
    "print(f\"The factorial of {num} is: {result}\")"
   ]
  },
  {
   "cell_type": "markdown",
   "id": "837a4d18-48a2-43c5-adb2-4377bba12ac3",
   "metadata": {},
   "source": [
    "5. How can you access variables defined outside a function from within the function?"
   ]
  },
  {
   "cell_type": "code",
   "execution_count": 54,
   "id": "6f38a31c-4ce0-4f6e-9cf7-37016849807d",
   "metadata": {},
   "outputs": [
    {
     "name": "stdout",
     "output_type": "stream",
     "text": [
      "Inside the function: Data Science\n"
     ]
    }
   ],
   "source": [
    "# define global variable\n",
    "global_var='Data Science'\n",
    "\n",
    "# function to use outside variable, within the function\n",
    "def access_global():\n",
    "    global global_var # declare to use global variable\n",
    "    print( 'Inside the function:',global_var)\n",
    "\n",
    "access_global()  # call the function"
   ]
  },
  {
   "cell_type": "markdown",
   "id": "090a3d94-8968-40f4-bb16-0b282d14821f",
   "metadata": {},
   "source": [
    "# Lambda functions and Higher-Order functions"
   ]
  },
  {
   "cell_type": "markdown",
   "id": "c3a5ed4b-4d7e-4a92-8fb6-06ec14e57aff",
   "metadata": {},
   "source": [
    "1. What are lambda functions in python, and when are they typically used?"
   ]
  },
  {
   "cell_type": "markdown",
   "id": "056a7a03-8628-4d32-9791-f50194f70325",
   "metadata": {},
   "source": [
    "Lambda functions in Python are small, anonymous functions defined using the 'lambda' keyword.\n",
    "They are also known as anonymous functions because they don't require a name like normal functions defined using 'def'.\n",
    "\n",
    "The basic syntax of a lambda function is: 'lambda arguments: expression'\n",
    "\n",
    "Here's an xample:"
   ]
  },
  {
   "cell_type": "code",
   "execution_count": 2,
   "id": "f786e49b-e4ea-450e-bed4-43993126d081",
   "metadata": {},
   "outputs": [
    {
     "name": "stdout",
     "output_type": "stream",
     "text": [
      "100\n"
     ]
    }
   ],
   "source": [
    "# lambda function to square a number\n",
    "square=lambda x: x * x\n",
    "\n",
    "# Using a lambda function\n",
    "result=square(10)\n",
    "print(result)"
   ]
  },
  {
   "cell_type": "markdown",
   "id": "2701d78a-6bd3-42e6-9720-4e8937e3e083",
   "metadata": {},
   "source": [
    "Lambda functions are typically used in situations where a small function is needed for a short period, often for operations that require a function as an argument to another function (e.g., map(), filter(), sorted()), or in situations where defining a separate function using 'def' would be overkill or less readable.\n",
    "\n",
    "Common Use Cases for Lambda Functions:\n",
    "    \n",
    "1. Functional Programming: Lambda functions are commonly used with higher-order functions like 'map()', 'filter()', and 'reduce()' to perform operations on iterables.\n",
    "\n",
    "Example using 'map()':\n"
   ]
  },
  {
   "cell_type": "code",
   "execution_count": 7,
   "id": "c5c645bf-2618-430d-a87f-1ffed8e5280f",
   "metadata": {},
   "outputs": [
    {
     "name": "stdout",
     "output_type": "stream",
     "text": [
      "[1, 4, 9, 16, 25]\n"
     ]
    }
   ],
   "source": [
    "numbers=[1,2,3,4,5]\n",
    "squared=list(map(lambda x : x * x, numbers))\n",
    "print(squared)"
   ]
  },
  {
   "cell_type": "markdown",
   "id": "0c99c8dd-b620-463b-8b8c-0380f06a6d1d",
   "metadata": {},
   "source": [
    "2. Sorting: They are used for defining custom sorting keys in the 'sorted()' function.\n",
    "\n",
    "Example:"
   ]
  },
  {
   "cell_type": "code",
   "execution_count": 8,
   "id": "5f8226a7-f5be-4a7e-9e94-109a606b95e1",
   "metadata": {},
   "outputs": [
    {
     "name": "stdout",
     "output_type": "stream",
     "text": [
      "['pro', 'Data', 'full', 'stack', 'science']\n"
     ]
    }
   ],
   "source": [
    "names=['Data','science','pro','full','stack']\n",
    "names_sorted=sorted(names, key=lambda x: len(x))\n",
    "print(names_sorted) "
   ]
  },
  {
   "cell_type": "markdown",
   "id": "e10fb5b6-415b-4afb-8c40-ab617162dc4f",
   "metadata": {},
   "source": [
    "3. GUI Programming and Event Handling: In GUI frameworks like Tkinter, lambda functions are used to bind events to widgets.\n",
    "\n",
    "Lambda functions offer a concise way to define simple functionalities inline without explicitly defining a separate function. However, they might make the code harder to understand if used excessively or for complex operations. Therefore, they are best suited for simple, one-line functions."
   ]
  },
  {
   "cell_type": "markdown",
   "id": "7a319e16-67e0-4e1d-8ae7-367645661f61",
   "metadata": {},
   "source": [
    "2. Write a Python program that uses lambda functions to sort a list of tuples based on the second element."
   ]
  },
  {
   "cell_type": "code",
   "execution_count": 10,
   "id": "b056b915-ffd0-4869-a94b-fa634186c06f",
   "metadata": {},
   "outputs": [
    {
     "name": "stdout",
     "output_type": "stream",
     "text": [
      "[(4, 3), (3, 4, 5), (9, 8, 6), (1, 8, 2, 2, 2, 5), (5, 10, 6)]\n"
     ]
    }
   ],
   "source": [
    "# list of tuples\n",
    "my_list=[(3,4,5),(4,3),(9,8,6),(1,8,2,2,2,5),(5,10,6)]\n",
    "\n",
    "# sorting the list based on the second element of each tuple\n",
    "sorted_list=sorted(my_list, key=lambda x: x[1])\n",
    "print(sorted_list)"
   ]
  },
  {
   "cell_type": "markdown",
   "id": "a13f9b88-e7d0-48e1-a65f-efa1448aec0d",
   "metadata": {},
   "source": [
    "3. Explain the concept of higher-order functions in Python, and provide and example."
   ]
  },
  {
   "cell_type": "markdown",
   "id": "bd03978c-0bb5-4cf6-83ef-eee6866cbe67",
   "metadata": {},
   "source": [
    "Higher-order functions in Python are functions that can either accept other functions as arguments, return functions as their results, or both. This concept is based on the idea of treating functions as first-class citizens, allowing them to be manipulated and passed around like any other data type.\n",
    "\n",
    "Characteristics of Higher-Order Functions:\n",
    "\n",
    "1. Accepting Function as Arguments:"
   ]
  },
  {
   "cell_type": "code",
   "execution_count": 5,
   "id": "91eae8a1-cdf5-4dd1-b8b2-635585260516",
   "metadata": {},
   "outputs": [
    {
     "name": "stdout",
     "output_type": "stream",
     "text": [
      "11\n"
     ]
    }
   ],
   "source": [
    "def apply_operation(func,x,y):\n",
    "    return func(x,y)\n",
    "\n",
    "def add(a,b):\n",
    "    return a+b\n",
    "result=apply_operation(add,5,6)\n",
    "print(result)\n",
    "# 'add' function is passed as an arguments to 'apply_operation' "
   ]
  },
  {
   "cell_type": "markdown",
   "id": "3ba9ea3e-30a5-41d1-a9d8-91aac9234565",
   "metadata": {},
   "source": [
    "2. Returning Function as Results:"
   ]
  },
  {
   "cell_type": "code",
   "execution_count": 8,
   "id": "012df833-3ce8-446b-942c-b32e752c0967",
   "metadata": {},
   "outputs": [
    {
     "name": "stdout",
     "output_type": "stream",
     "text": [
      "30\n"
     ]
    }
   ],
   "source": [
    "def create_multiplier(n):\n",
    "    def multiplier(x):\n",
    "        return x * n\n",
    "    return multiplier\n",
    "\n",
    "multiply_by_5=create_multiplier(5)\n",
    "result=multiply_by_5(6)\n",
    "print(result)\n",
    "# 'create_multiplier' returns a new function 'multiplier'"
   ]
  },
  {
   "cell_type": "markdown",
   "id": "4cc377b4-6fbc-447e-89f0-d216305541bb",
   "metadata": {},
   "source": [
    "Example of Higher-Order Function:\n",
    "    \n",
    "Here's an example that demonstrates a higher-order function in python."
   ]
  },
  {
   "cell_type": "code",
   "execution_count": 9,
   "id": "00dfec36-0e5b-4385-83e7-e70a94ed1bb6",
   "metadata": {},
   "outputs": [
    {
     "name": "stdout",
     "output_type": "stream",
     "text": [
      "Addition: 60\n",
      "Difference: 80\n"
     ]
    }
   ],
   "source": [
    "# Function that takes a function as an argument\n",
    "\n",
    "def apply_operation(func,x,y):\n",
    "    return func(x,y)\n",
    "\n",
    "# function to add two numbers\n",
    "def add(a,b):\n",
    "    return a+b\n",
    "\n",
    "# function to subtract two numbers\n",
    "def subtraction(x,y):\n",
    "    return x-y\n",
    "\n",
    "# using the higher-order function with different operations\n",
    "result_addition=apply_operation(add,56,4)\n",
    "result_subtraction=apply_operation(subtraction, 89,9)\n",
    "\n",
    "print('Addition:',result_addition)\n",
    "print('Difference:',result_subtraction)"
   ]
  },
  {
   "cell_type": "markdown",
   "id": "1e9ba1e8-9d59-49e2-ac5d-5fe4ae7f335f",
   "metadata": {},
   "source": [
    "4. Create a Python function that takes a list of numbers and a function as arguments, applying the function to each element in the list."
   ]
  },
  {
   "cell_type": "code",
   "execution_count": 12,
   "id": "c1078cc5-d2d9-4fd7-a2a9-9f82e28d75d5",
   "metadata": {},
   "outputs": [
    {
     "data": {
      "text/plain": [
       "[2, 4, 6, 8, 88, 90, 66]"
      ]
     },
     "execution_count": 12,
     "metadata": {},
     "output_type": "execute_result"
    }
   ],
   "source": [
    "# define function\n",
    "\n",
    "def find_even_numbers(func,lst):\n",
    "    return func(lst)\n",
    "\n",
    "# list to store even numbers\n",
    "even_list=[]\n",
    "# function to identify even numbers\n",
    "def even_numbers(lst):\n",
    "    for i in lst:\n",
    "        if i%2==0:\n",
    "            even_list.append(i)\n",
    "    return even_list\n",
    "\n",
    "# using function as argument\n",
    "lst=[33,2,1,4,5,6,77,8,88,90,87,66]\n",
    "find_even_numbers(even_numbers,lst)"
   ]
  },
  {
   "cell_type": "markdown",
   "id": "e6586eb1-4772-445f-9fa7-f7bbd88bf5c7",
   "metadata": {},
   "source": [
    "# Built-in Functions"
   ]
  },
  {
   "cell_type": "markdown",
   "id": "764ac804-4146-4114-ba04-e36496b358f3",
   "metadata": {},
   "source": [
    "1. Describe the role of built-in functions like 'len()', 'max()', and 'min()' in Python."
   ]
  },
  {
   "cell_type": "markdown",
   "id": "df3be12f-befe-405f-a96e-c15a691a1b33",
   "metadata": {},
   "source": [
    "Built-in functions like 'len()', 'max()', and 'min()' in Python are utility functions that perform common operations on data structures or collections. They provide convenient ways to retrieve information or perform calculation without the need for custom implementations.\n",
    "\n",
    "\n",
    "'len()'\n",
    "\n",
    "* 'len()' returns the length of an object, which could be a sequence (such as a string, list, tuple, or dictionary) or a collection.\n",
    "\n",
    "* It calculates and returns the number of items present in the specified object.\n",
    "\n",
    "Example:"
   ]
  },
  {
   "cell_type": "code",
   "execution_count": 2,
   "id": "f7a7ba36-2834-4588-b6dc-3d6d2afb9968",
   "metadata": {},
   "outputs": [
    {
     "name": "stdout",
     "output_type": "stream",
     "text": [
      "6\n"
     ]
    }
   ],
   "source": [
    "my_list=[3,4,5,6,5,4]\n",
    "length=len(my_list)\n",
    "print(length)"
   ]
  },
  {
   "cell_type": "markdown",
   "id": "04b9c566-15c8-44f0-beb2-6221be1bfdcc",
   "metadata": {},
   "source": [
    "'max()'\n",
    "\n",
    "\n",
    "* 'max()' returns the maximum value among the arguments passed to it or the maximum value in an iterable object.\n",
    "\n",
    "* For non-numeric types, it returns the maximum value based on the default lexicographic order.\n",
    "\n",
    "Example:"
   ]
  },
  {
   "cell_type": "code",
   "execution_count": 3,
   "id": "488cd190-0602-4292-bf77-0f4ee2b706a7",
   "metadata": {},
   "outputs": [
    {
     "name": "stdout",
     "output_type": "stream",
     "text": [
      "5\n"
     ]
    }
   ],
   "source": [
    "numbers=[4,5,2,3,1]\n",
    "maximum=max(numbers)\n",
    "print(maximum)"
   ]
  },
  {
   "cell_type": "markdown",
   "id": "4bfc76ac-1d16-43a5-b5cc-cecda94519d9",
   "metadata": {},
   "source": [
    "'min()'\n",
    "\n",
    "* 'min()' returns the minimum value among the arguments passed to it or the minimum value in an iterable object.\n",
    "\n",
    "* Similar to 'max()', for non-numeric types, it returns the minimum value based on the default lexicographic order.\n",
    "\n",
    "Example:"
   ]
  },
  {
   "cell_type": "code",
   "execution_count": 4,
   "id": "9f2c6ecd-5c3d-4f01-a47d-3d8b4373fd15",
   "metadata": {},
   "outputs": [
    {
     "name": "stdout",
     "output_type": "stream",
     "text": [
      "2\n"
     ]
    }
   ],
   "source": [
    "numbers=[4,3,5,55,2]\n",
    "minimum=min(numbers)\n",
    "print(minimum)"
   ]
  },
  {
   "cell_type": "markdown",
   "id": "47887b39-e966-4bfb-81b7-0f050e97d394",
   "metadata": {},
   "source": [
    "# Role of these functions\n",
    "\n",
    "* These functions simplify common tasks by providing a concise and efficient way to perform operations without manually iterating through data structures.\n",
    "\n",
    "* They are especially useful when working with collections, as they allow quick retrieval of information without writing custom loops or conditional checks.\n",
    "\n",
    "* 'len()', 'max()', and 'min()' contribute to the readability and simplicity of code by offering standardized ways to obtain essential information about objects or collections.\n",
    "\n",
    "\n",
    "Overall, these built-in function play a crucial role in python programming by offering convenient functionalities for obtaining information about data structures or performing basic calculations."
   ]
  },
  {
   "cell_type": "markdown",
   "id": "4a37d053-71c5-4977-8f8c-ebdf86e81c69",
   "metadata": {},
   "source": [
    "2. Write a Python program that uses the 'map()' function to apply a function to each element of a list."
   ]
  },
  {
   "cell_type": "code",
   "execution_count": 9,
   "id": "3b4b028a-3ba5-4682-b4a1-fb570671e558",
   "metadata": {},
   "outputs": [
    {
     "name": "stdout",
     "output_type": "stream",
     "text": [
      "[15, 20, 25, 30, 35, 40, 45, 5, 50]\n"
     ]
    }
   ],
   "source": [
    "numbers=[3,4,5,6,7,8,9,1,10]\n",
    "odd_numbers=list(map(lambda x : x*5, numbers))\n",
    "print(odd_numbers)"
   ]
  },
  {
   "cell_type": "markdown",
   "id": "b8f822f0-f3d7-44af-84cd-94c7b115fba8",
   "metadata": {},
   "source": [
    "3. How does the 'filter()' function work in Python, and when would you use it?"
   ]
  },
  {
   "cell_type": "markdown",
   "id": "8b0573e0-456e-4801-9914-d30b72d3c460",
   "metadata": {},
   "source": [
    "The 'filter()' function in Python is used to filter elements from an iterable (such as a list) for which a given function returns 'True'. It creates an iterator yielding the elements that satisfy the specified condition.\n",
    "\n",
    "Syntax:\n",
    "    \n",
    "    filter(function, iterable)\n",
    "    \n",
    "* 'function': A function that defines the condition/filtering logic. This function should return 'True' or 'False'.\n",
    "\n",
    "* 'iterable': The iterable (list, tuple, etc.) from whch elements are filtered.\n",
    "\n",
    "How 'filter()' Works:\n",
    "    \n",
    "* 'filter()' applies the specified function to each element in the iterale.\n",
    "\n",
    "* It retains only those elements for which the function returns 'True'.\n",
    "\n",
    "* It returns an iterator containing the filtered elements.\n",
    "\n",
    "\n",
    "Example:\n",
    "    \n",
    "    Let's say we want to filter even numberrs from a list using 'filter()':"
   ]
  },
  {
   "cell_type": "code",
   "execution_count": 1,
   "id": "61c6b788-6cef-4ff2-a1a0-4b1c38e3d42b",
   "metadata": {},
   "outputs": [
    {
     "name": "stdout",
     "output_type": "stream",
     "text": [
      "[6, 4, 2, 98, 78]\n"
     ]
    }
   ],
   "source": [
    "# function to check if a number if even\n",
    "\n",
    "def is_even(x):\n",
    "    return x%2==0\n",
    "\n",
    "numbers=[3,5,7,6,5,4,3,2,98,78]\n",
    "\n",
    "# using filter() to filter even numbers from the list\n",
    "\n",
    "even_numbers=filter(is_even,numbers)\n",
    "\n",
    "# converting the filter object to a list to see the filtered values\n",
    "\n",
    "even_num_list=list(filter(is_even,numbers))\n",
    "\n",
    "print(even_num_list)"
   ]
  },
  {
   "cell_type": "markdown",
   "id": "8ef7b420-2ab1-472c-8c86-dae0750fed4a",
   "metadata": {},
   "source": [
    "In this example:\n",
    "    \n",
    "* The 'is_even()' function defines the condition for filtering. It returns 'True' if the number is even.\n",
    "\n",
    "* 'filter(is_even,numbers)' applies the 'is_even()' function to each element in the 'numbers' list, creating a filter object containing only the even numbers.\n",
    "\n",
    "* Converting the filter object to a list ('list(even_numbers)') gives us a list containing only the even numberrs from the original list.\n",
    "\n",
    "\n",
    "Use Cases for 'filter()':\n",
    "    \n",
    "* Filtering elements based on a specific condition or criteria, such as selecting only numbers above a certain threshold, filtering specific types of data, or extracting elements fulfilling certain requirements.\n",
    "\n",
    "* Working with collections and data where you need to extract or remove elements based on a defined condition without modifying the original data.\n",
    "\n",
    "'filter()' is a powerful tool for selectively extracting elements from an iterable based on a specified condition, making it useful in various scenarios where data filtering is required."
   ]
  },
  {
   "cell_type": "markdown",
   "id": "e42ecf69-7086-4e1a-abcd-f713fd166733",
   "metadata": {},
   "source": [
    "4. Create a Python program that uses the 'reduce()' function to find the product of all elements in a list."
   ]
  },
  {
   "cell_type": "code",
   "execution_count": 13,
   "id": "3400e3f5-1e00-43b6-a127-3f2dd21164b1",
   "metadata": {},
   "outputs": [
    {
     "name": "stdout",
     "output_type": "stream",
     "text": [
      "The product of all elements is: 26214451200\n"
     ]
    }
   ],
   "source": [
    "from functools import reduce\n",
    "\n",
    "def num_product(a,b):\n",
    "    return a*b\n",
    "\n",
    "numbers=[1,2,3,4,5,6,7,8,9,10,3,43,56]\n",
    "# using reduce to find product of elements in a list\n",
    "result=reduce(num_product,numbers,1)\n",
    "print('The product of all elements is:',result)"
   ]
  },
  {
   "cell_type": "markdown",
   "id": "c70c2775-2ac0-45db-bd3f-395634c3afee",
   "metadata": {},
   "source": [
    "# Function documentation and best practices:"
   ]
  },
  {
   "cell_type": "markdown",
   "id": "51c18a64-5142-4df5-af93-6a70c6a28120",
   "metadata": {},
   "source": [
    "1. Explain the purpose of docstrings in Python functions and how to write them."
   ]
  },
  {
   "cell_type": "markdown",
   "id": "3741d20f-cfe5-4cd4-a96c-4cde8ca212b6",
   "metadata": {},
   "source": [
    "Docstrings in Python serve as documentation for functions, modules, classes, or methods. They describe what the code does, its purpose, parameters, return values, and more. Docstrings are enclosed in triple quotes (''' ''' or \"\"\" \"\"\" and can span multiple lines.\n",
    "\n",
    "\n",
    "Purpose of Docstrings:\n",
    "\n",
    "1. Documentation: They provide a way to document code comprehensively, making it easier for other developers (and yourself) to understand and use the code.\n",
    "\n",
    "2. Accessibility: Docstrings can be accessed using the '__doc__' attribute of functions, classses, or modules, enabling users to view the documentation interactively.\n",
    "\n",
    "\n",
    "Writing Docstrings:\n",
    "\n",
    "Here's an example of writing a docstring for a function:"
   ]
  },
  {
   "cell_type": "code",
   "execution_count": 14,
   "id": "3f6bced4-31f9-488c-bb44-09fbca867b33",
   "metadata": {},
   "outputs": [],
   "source": [
    "def calculate_square(n):\n",
    "    ''' Calculate the square of a number.\n",
    "    \n",
    "    Args:\n",
    "        n (int): The number to be squared.\n",
    "    Returns: \n",
    "        int: The square of the input number.\n",
    "        '''\n",
    "    return n * n"
   ]
  },
  {
   "cell_type": "markdown",
   "id": "f1f425c2-8f3a-4539-9940-fdd3c3c7bdcd",
   "metadata": {},
   "source": [
    "Explanation of the parts in the docstring:\n",
    "    \n",
    "* Function Description: The first line briefly describes what the function does.\n",
    "\n",
    "* Args: Describes the function's arguments ('n' in this case), specifying their type and purpose.\n",
    "\n",
    "* Returns: Describes the return value of the function and its type.\n",
    "\n",
    "How to Access Docstrings:\n",
    "    \n",
    "You can access the docstring using the '__doc__' attribute:"
   ]
  },
  {
   "cell_type": "code",
   "execution_count": 15,
   "id": "8b08abe2-3eb9-4e37-9232-07bc89a73e71",
   "metadata": {},
   "outputs": [
    {
     "name": "stdout",
     "output_type": "stream",
     "text": [
      " Calculate the square of a number.\n",
      "    \n",
      "    Args:\n",
      "        n (int): The number to be squared.\n",
      "    Returns: \n",
      "        int: The square of the input number.\n",
      "        \n"
     ]
    }
   ],
   "source": [
    "print(calculate_square.__doc__)"
   ]
  },
  {
   "cell_type": "markdown",
   "id": "7567a4e3-e8cd-4d5f-a4b1-08c029907f39",
   "metadata": {},
   "source": [
    "Best Practices for Docstrings:\n",
    "    \n",
    "* Conciseness: Keep the docstring concise but informative, focusing on the function's purpose, parameters, and return values.\n",
    "\n",
    "* Consistency: Follow a consistent format and style across your codebase for better readability and understanding.\n",
    "\n",
    "* Update when needed: Maintain and update docstrings whenever the function's behavior or parameters change to ensure accuracy.\n",
    "\n",
    "Docstrings play a crucial role in creating self-explanatory and well-documented code. They enhance code readability, facilitate collabaration, and help developers understand and use code effectively."
   ]
  },
  {
   "cell_type": "markdown",
   "id": "3352985f-8bfa-44f5-96e8-5f4708089a79",
   "metadata": {},
   "source": [
    "2. Describe some best practices for naming functions and variables in Python, including naming conventions and guidelines."
   ]
  },
  {
   "cell_type": "markdown",
   "id": "effbf1b0-6de9-4057-ae58-e47f2f395c16",
   "metadata": {},
   "source": [
    "Naming functions and variables in Python following best practices and conventions enhances code readability and maintainability. Here are some guidelines and conventions:\n",
    "    \n",
    "Naming Conventions for Functions and Variables:\n",
    "    \n",
    "1. Use Descriptive Names: Choose names that clearly indicate the purpose or meaning of the function or variable. This promotes readability and understanding.\n",
    "\n",
    "2. Use Snake Case: For both functions and variables, use lowercase letters and underscores to separate words ('snake_case'). It's the preferred naming convention in Python."
   ]
  },
  {
   "cell_type": "code",
   "execution_count": 17,
   "id": "3118efc5-c491-4516-9450-85cc6d239e46",
   "metadata": {},
   "outputs": [],
   "source": [
    "# function name\n",
    "def calculate_average_score():\n",
    "    pass\n",
    "# Variable name\n",
    "total_students=100"
   ]
  },
  {
   "cell_type": "markdown",
   "id": "26a2969d-dc4a-4cc4-9291-e996a9c8b5a8",
   "metadata": {},
   "source": [
    "3. Be Consistent: Maintain consistency in naming across your codebase. If you start with a naming convention, stick to it throughout the code.\n",
    "\n",
    "4. Use Verb-Noun Pairing for Functions: For functions, it's often beneficial to start with a verb followed by a noun that describes the action and object."
   ]
  },
  {
   "cell_type": "code",
   "execution_count": 20,
   "id": "78b29adb-d47f-4591-a7f5-e25b50d1e64c",
   "metadata": {},
   "outputs": [],
   "source": [
    "# Good function name\n",
    "# calculate_average_score()\n",
    "\n",
    "# less descriptive function name\n",
    "# score()"
   ]
  },
  {
   "cell_type": "markdown",
   "id": "d5a9f657-05a2-4fd6-ae9f-1a0c68becd4e",
   "metadata": {},
   "source": [
    "5. Avoid One-Letter Names: Unless it's a standard iterator (like 'i', 'j' in loops), avoid using single-letter variable names. Descriptive names enhance readability.\n",
    "\n",
    "6. Use Meaningful Variable Names: Choose names that describe the data they hold. For example, 'total_students' is more informative than 'num'.\n",
    "\n",
    "\n",
    "Specific Conventions in Python:\n",
    "    \n",
    "* Constants: Use all uppercase letters for constands and separate words with underscores ('CONSTANT_NAME').\n",
    "\n",
    "* Modules and Packages: Use short, lowercase, names for modules and packages. If a module name consists of multiple words, use underscores ('my_module').\n",
    "\n",
    "Additional Best Practices:\n",
    "    \n",
    "* Avoid Reserved Keywords: Don't use Python's reserved keywords (like 'def', 'for', 'if', etc.) as variable or function names.\n",
    "\n",
    "* Avoid Ambiguous Names: Names should be clear and unambiguous. Avoid using names that could be misunderstood or have multiple interpretations.\n",
    "\n",
    "* Update Names When Necessary: Rename variables or functions when their purpose changes to maintain clarity.\n",
    "\n",
    "* Consider PEP 8: Follow the Python Enhancement Proposal (PEP 8) guidelines for naming conventions and code style. PEP 8 provides a comprehensive guide on how to format Python code for readability.\n",
    "\n",
    "Following these conventions and guidelines promotes consitency and clarity in your code, making it easier for others (and yourself) to understand and maintain it over time."
   ]
  },
  {
   "cell_type": "code",
   "execution_count": null,
   "id": "cb427887-a88c-480f-8b03-605c63328132",
   "metadata": {},
   "outputs": [],
   "source": []
  }
 ],
 "metadata": {
  "kernelspec": {
   "display_name": "Python 3 (ipykernel)",
   "language": "python",
   "name": "python3"
  },
  "language_info": {
   "codemirror_mode": {
    "name": "ipython",
    "version": 3
   },
   "file_extension": ".py",
   "mimetype": "text/x-python",
   "name": "python",
   "nbconvert_exporter": "python",
   "pygments_lexer": "ipython3",
   "version": "3.10.8"
  }
 },
 "nbformat": 4,
 "nbformat_minor": 5
}
